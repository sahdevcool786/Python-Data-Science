{
  "nbformat": 4,
  "nbformat_minor": 0,
  "metadata": {
    "colab": {
      "name": "Credit_Card_Fraud_Detection_Assignment.ipynb",
      "provenance": [],
      "collapsed_sections": []
    },
    "kernelspec": {
      "name": "python3",
      "display_name": "Python 3"
    },
    "widgets": {
      "application/vnd.jupyter.widget-state+json": {
        "137614dcdc5044ccb002efb78c2d9220": {
          "model_module": "@jupyter-widgets/controls",
          "model_name": "IntProgressModel",
          "state": {
            "_view_name": "ProgressView",
            "style": "IPY_MODEL_34231c3154f9439484bbd268ba554b01",
            "_dom_classes": [],
            "description": "Processing: ",
            "_model_name": "IntProgressModel",
            "bar_style": "",
            "max": 14,
            "_view_module": "@jupyter-widgets/controls",
            "_model_module_version": "1.5.0",
            "value": 0,
            "_view_count": null,
            "_view_module_version": "1.5.0",
            "orientation": "horizontal",
            "min": 0,
            "description_tooltip": null,
            "_model_module": "@jupyter-widgets/controls",
            "layout": "IPY_MODEL_dd681ff054ee4f399aec84e7d8dbe4d7"
          }
        },
        "34231c3154f9439484bbd268ba554b01": {
          "model_module": "@jupyter-widgets/controls",
          "model_name": "ProgressStyleModel",
          "state": {
            "_view_name": "StyleView",
            "_model_name": "ProgressStyleModel",
            "description_width": "",
            "_view_module": "@jupyter-widgets/base",
            "_model_module_version": "1.5.0",
            "_view_count": null,
            "_view_module_version": "1.2.0",
            "bar_color": null,
            "_model_module": "@jupyter-widgets/controls"
          }
        },
        "dd681ff054ee4f399aec84e7d8dbe4d7": {
          "model_module": "@jupyter-widgets/base",
          "model_name": "LayoutModel",
          "state": {
            "_view_name": "LayoutView",
            "grid_template_rows": null,
            "right": null,
            "justify_content": null,
            "_view_module": "@jupyter-widgets/base",
            "overflow": null,
            "_model_module_version": "1.2.0",
            "_view_count": null,
            "flex_flow": null,
            "width": null,
            "min_width": null,
            "border": null,
            "align_items": null,
            "bottom": null,
            "_model_module": "@jupyter-widgets/base",
            "top": null,
            "grid_column": null,
            "overflow_y": null,
            "overflow_x": null,
            "grid_auto_flow": null,
            "grid_area": null,
            "grid_template_columns": null,
            "flex": null,
            "_model_name": "LayoutModel",
            "justify_items": null,
            "grid_row": null,
            "max_height": null,
            "align_content": null,
            "visibility": null,
            "align_self": null,
            "height": null,
            "min_height": null,
            "padding": null,
            "grid_auto_rows": null,
            "grid_gap": null,
            "max_width": null,
            "order": null,
            "_view_module_version": "1.2.0",
            "grid_template_areas": null,
            "object_position": null,
            "object_fit": null,
            "grid_auto_columns": null,
            "margin": null,
            "display": null,
            "left": null
          }
        },
        "24f0ff751dce48559ae1f046a1fd0944": {
          "model_module": "@jupyter-widgets/controls",
          "model_name": "IntProgressModel",
          "state": {
            "_view_name": "ProgressView",
            "style": "IPY_MODEL_4668731ae74a48bf9ccd570cea063a1e",
            "_dom_classes": [],
            "description": "Processing: ",
            "_model_name": "IntProgressModel",
            "bar_style": "",
            "max": 5,
            "_view_module": "@jupyter-widgets/controls",
            "_model_module_version": "1.5.0",
            "value": 5,
            "_view_count": null,
            "_view_module_version": "1.5.0",
            "orientation": "horizontal",
            "min": 0,
            "description_tooltip": null,
            "_model_module": "@jupyter-widgets/controls",
            "layout": "IPY_MODEL_02356f1440d9447886d54b80208e0852"
          }
        },
        "92f3d7432c5647f7b551c672c03074bc": {
          "model_module": "@jupyter-widgets/controls",
          "model_name": "IntProgressModel",
          "state": {
            "_view_name": "ProgressView",
            "style": "IPY_MODEL_14cede4b620c4caf8e84d20c573824bf",
            "_dom_classes": [],
            "description": "Processing: ",
            "_model_name": "IntProgressModel",
            "bar_style": "",
            "max": 5,
            "_view_module": "@jupyter-widgets/controls",
            "_model_module_version": "1.5.0",
            "value": 5,
            "_view_count": null,
            "_view_module_version": "1.5.0",
            "orientation": "horizontal",
            "min": 0,
            "description_tooltip": null,
            "_model_module": "@jupyter-widgets/controls",
            "layout": "IPY_MODEL_87031a6f737242ddad55f4719c8c4cc2"
          }
        },
        "5ab7c45debde4022bb740f28f3e14a91": {
          "model_module": "@jupyter-widgets/controls",
          "model_name": "IntProgressModel",
          "state": {
            "_view_name": "ProgressView",
            "style": "IPY_MODEL_6df6fb74fbea40e79b687c20bcbb33ff",
            "_dom_classes": [],
            "description": "Processing: ",
            "_model_name": "IntProgressModel",
            "bar_style": "",
            "max": 5,
            "_view_module": "@jupyter-widgets/controls",
            "_model_module_version": "1.5.0",
            "value": 5,
            "_view_count": null,
            "_view_module_version": "1.5.0",
            "orientation": "horizontal",
            "min": 0,
            "description_tooltip": null,
            "_model_module": "@jupyter-widgets/controls",
            "layout": "IPY_MODEL_154208092962415fa346c9f4ac6835a5"
          }
        },
        "0ac2e87c3ff1404aada2ee2e319c54d3": {
          "model_module": "@jupyter-widgets/controls",
          "model_name": "IntProgressModel",
          "state": {
            "_view_name": "ProgressView",
            "style": "IPY_MODEL_3bee2cda08b04adb87f791d763d102b3",
            "_dom_classes": [],
            "description": "Processing: ",
            "_model_name": "IntProgressModel",
            "bar_style": "",
            "max": 5,
            "_view_module": "@jupyter-widgets/controls",
            "_model_module_version": "1.5.0",
            "value": 5,
            "_view_count": null,
            "_view_module_version": "1.5.0",
            "orientation": "horizontal",
            "min": 0,
            "description_tooltip": null,
            "_model_module": "@jupyter-widgets/controls",
            "layout": "IPY_MODEL_bb051594dfdb4379aa908b10cd5dd550"
          }
        },
        "9589c9d9c3c44664a6f8988599c3f6e5": {
          "model_module": "@jupyter-widgets/controls",
          "model_name": "VBoxModel",
          "state": {
            "_view_name": "VBoxView",
            "_dom_classes": [
              "widget-interact"
            ],
            "_model_name": "VBoxModel",
            "_view_module": "@jupyter-widgets/controls",
            "_model_module_version": "1.5.0",
            "_view_count": null,
            "_view_module_version": "1.5.0",
            "box_style": "",
            "layout": "IPY_MODEL_63aff563ff8f4d55b9b0615a2159c433",
            "_model_module": "@jupyter-widgets/controls",
            "children": [
              "IPY_MODEL_fc85a114d58945fe83c0bc028abb1e6c",
              "IPY_MODEL_b06638befd8848f1a54a0b1addcb3413"
            ]
          }
        },
        "63aff563ff8f4d55b9b0615a2159c433": {
          "model_module": "@jupyter-widgets/base",
          "model_name": "LayoutModel",
          "state": {
            "_view_name": "LayoutView",
            "grid_template_rows": null,
            "right": null,
            "justify_content": null,
            "_view_module": "@jupyter-widgets/base",
            "overflow": null,
            "_model_module_version": "1.2.0",
            "_view_count": null,
            "flex_flow": null,
            "width": null,
            "min_width": null,
            "border": null,
            "align_items": null,
            "bottom": null,
            "_model_module": "@jupyter-widgets/base",
            "top": null,
            "grid_column": null,
            "overflow_y": null,
            "overflow_x": null,
            "grid_auto_flow": null,
            "grid_area": null,
            "grid_template_columns": null,
            "flex": null,
            "_model_name": "LayoutModel",
            "justify_items": null,
            "grid_row": null,
            "max_height": null,
            "align_content": null,
            "visibility": null,
            "align_self": null,
            "height": null,
            "min_height": null,
            "padding": null,
            "grid_auto_rows": null,
            "grid_gap": null,
            "max_width": null,
            "order": null,
            "_view_module_version": "1.2.0",
            "grid_template_areas": null,
            "object_position": null,
            "object_fit": null,
            "grid_auto_columns": null,
            "margin": null,
            "display": null,
            "left": null
          }
        },
        "fc85a114d58945fe83c0bc028abb1e6c": {
          "model_module": "@jupyter-widgets/controls",
          "model_name": "ToggleButtonsModel",
          "state": {
            "_options_labels": [
              "Hyperparameters",
              "AUC",
              "Confusion Matrix",
              "Threshold",
              "Precision Recall",
              "Error",
              "Class Report",
              "Feature Selection",
              "Learning Curve",
              "Manifold Learning",
              "Calibration Curve",
              "Validation Curve",
              "Dimensions",
              "Feature Importance",
              "Decision Boundary"
            ],
            "_view_name": "ToggleButtonsView",
            "style": "IPY_MODEL_d4900cefb39f44f29845f48884c43dd5",
            "_dom_classes": [],
            "description": "Plot Type:",
            "_model_name": "ToggleButtonsModel",
            "tooltips": [],
            "index": 0,
            "button_style": "",
            "_view_module": "@jupyter-widgets/controls",
            "_model_module_version": "1.5.0",
            "_view_count": null,
            "disabled": false,
            "_view_module_version": "1.5.0",
            "icons": [
              ""
            ],
            "description_tooltip": null,
            "_model_module": "@jupyter-widgets/controls",
            "layout": "IPY_MODEL_2996a6af023249e288c904d0dbd6a4ce"
          }
        },
        "b06638befd8848f1a54a0b1addcb3413": {
          "model_module": "@jupyter-widgets/output",
          "model_name": "OutputModel",
          "state": {
            "_view_name": "OutputView",
            "msg_id": "",
            "_dom_classes": [],
            "_model_name": "OutputModel",
            "outputs": [
              {
                "output_type": "display_data",
                "metadata": {
                  "tags": []
                },
                "text/html": "<div>\n<style scoped>\n    .dataframe tbody tr th:only-of-type {\n        vertical-align: middle;\n    }\n\n    .dataframe tbody tr th {\n        vertical-align: top;\n    }\n\n    .dataframe thead th {\n        text-align: right;\n    }\n</style>\n<table border=\"1\" class=\"dataframe\">\n  <thead>\n    <tr style=\"text-align: right;\">\n      <th></th>\n      <th>Parameters</th>\n    </tr>\n  </thead>\n  <tbody>\n    <tr>\n      <th>bootstrap</th>\n      <td>False</td>\n    </tr>\n    <tr>\n      <th>ccp_alpha</th>\n      <td>0</td>\n    </tr>\n    <tr>\n      <th>class_weight</th>\n      <td>None</td>\n    </tr>\n    <tr>\n      <th>criterion</th>\n      <td>gini</td>\n    </tr>\n    <tr>\n      <th>max_depth</th>\n      <td>None</td>\n    </tr>\n    <tr>\n      <th>max_features</th>\n      <td>auto</td>\n    </tr>\n    <tr>\n      <th>max_leaf_nodes</th>\n      <td>None</td>\n    </tr>\n    <tr>\n      <th>max_samples</th>\n      <td>None</td>\n    </tr>\n    <tr>\n      <th>min_impurity_decrease</th>\n      <td>0</td>\n    </tr>\n    <tr>\n      <th>min_impurity_split</th>\n      <td>None</td>\n    </tr>\n    <tr>\n      <th>min_samples_leaf</th>\n      <td>1</td>\n    </tr>\n    <tr>\n      <th>min_samples_split</th>\n      <td>2</td>\n    </tr>\n    <tr>\n      <th>min_weight_fraction_leaf</th>\n      <td>0</td>\n    </tr>\n    <tr>\n      <th>n_estimators</th>\n      <td>100</td>\n    </tr>\n    <tr>\n      <th>n_jobs</th>\n      <td>None</td>\n    </tr>\n    <tr>\n      <th>oob_score</th>\n      <td>False</td>\n    </tr>\n    <tr>\n      <th>random_state</th>\n      <td>1667</td>\n    </tr>\n    <tr>\n      <th>verbose</th>\n      <td>0</td>\n    </tr>\n    <tr>\n      <th>warm_start</th>\n      <td>False</td>\n    </tr>\n  </tbody>\n</table>\n</div>",
                "text/plain": "                         Parameters\nbootstrap                     False\nccp_alpha                         0\nclass_weight                   None\ncriterion                      gini\nmax_depth                      None\nmax_features                   auto\nmax_leaf_nodes                 None\nmax_samples                    None\nmin_impurity_decrease             0\nmin_impurity_split             None\nmin_samples_leaf                  1\nmin_samples_split                 2\nmin_weight_fraction_leaf          0\nn_estimators                    100\nn_jobs                         None\noob_score                     False\nrandom_state                   1667\nverbose                           0\nwarm_start                    False"
              }
            ],
            "_view_module": "@jupyter-widgets/output",
            "_model_module_version": "1.0.0",
            "_view_count": null,
            "_view_module_version": "1.0.0",
            "layout": "IPY_MODEL_32e4249930234bfe99fdbe50154358eb",
            "_model_module": "@jupyter-widgets/output"
          }
        },
        "d4900cefb39f44f29845f48884c43dd5": {
          "model_module": "@jupyter-widgets/controls",
          "model_name": "ToggleButtonsStyleModel",
          "state": {
            "_view_name": "StyleView",
            "button_width": "",
            "_model_name": "ToggleButtonsStyleModel",
            "description_width": "",
            "_view_module": "@jupyter-widgets/base",
            "_model_module_version": "1.5.0",
            "_view_count": null,
            "font_weight": "",
            "_view_module_version": "1.2.0",
            "_model_module": "@jupyter-widgets/controls"
          }
        },
        "2996a6af023249e288c904d0dbd6a4ce": {
          "model_module": "@jupyter-widgets/base",
          "model_name": "LayoutModel",
          "state": {
            "_view_name": "LayoutView",
            "grid_template_rows": null,
            "right": null,
            "justify_content": null,
            "_view_module": "@jupyter-widgets/base",
            "overflow": null,
            "_model_module_version": "1.2.0",
            "_view_count": null,
            "flex_flow": null,
            "width": null,
            "min_width": null,
            "border": null,
            "align_items": null,
            "bottom": null,
            "_model_module": "@jupyter-widgets/base",
            "top": null,
            "grid_column": null,
            "overflow_y": null,
            "overflow_x": null,
            "grid_auto_flow": null,
            "grid_area": null,
            "grid_template_columns": null,
            "flex": null,
            "_model_name": "LayoutModel",
            "justify_items": null,
            "grid_row": null,
            "max_height": null,
            "align_content": null,
            "visibility": null,
            "align_self": null,
            "height": null,
            "min_height": null,
            "padding": null,
            "grid_auto_rows": null,
            "grid_gap": null,
            "max_width": null,
            "order": null,
            "_view_module_version": "1.2.0",
            "grid_template_areas": null,
            "object_position": null,
            "object_fit": null,
            "grid_auto_columns": null,
            "margin": null,
            "display": null,
            "left": null
          }
        },
        "32e4249930234bfe99fdbe50154358eb": {
          "model_module": "@jupyter-widgets/base",
          "model_name": "LayoutModel",
          "state": {
            "_view_name": "LayoutView",
            "grid_template_rows": null,
            "right": null,
            "justify_content": null,
            "_view_module": "@jupyter-widgets/base",
            "overflow": null,
            "_model_module_version": "1.2.0",
            "_view_count": null,
            "flex_flow": null,
            "width": null,
            "min_width": null,
            "border": null,
            "align_items": null,
            "bottom": null,
            "_model_module": "@jupyter-widgets/base",
            "top": null,
            "grid_column": null,
            "overflow_y": null,
            "overflow_x": null,
            "grid_auto_flow": null,
            "grid_area": null,
            "grid_template_columns": null,
            "flex": null,
            "_model_name": "LayoutModel",
            "justify_items": null,
            "grid_row": null,
            "max_height": null,
            "align_content": null,
            "visibility": null,
            "align_self": null,
            "height": null,
            "min_height": null,
            "padding": null,
            "grid_auto_rows": null,
            "grid_gap": null,
            "max_width": null,
            "order": null,
            "_view_module_version": "1.2.0",
            "grid_template_areas": null,
            "object_position": null,
            "object_fit": null,
            "grid_auto_columns": null,
            "margin": null,
            "display": null,
            "left": null
          }
        },
        "60a92177a0514ac3aaa9be206d9d7a40": {
          "model_module": "@jupyter-widgets/controls",
          "model_name": "IntProgressModel",
          "state": {
            "_view_name": "ProgressView",
            "style": "IPY_MODEL_d71b708a1b194a5eb9589a7d14842d16",
            "_dom_classes": [],
            "description": "Processing: ",
            "_model_name": "IntProgressModel",
            "bar_style": "",
            "max": 5,
            "_view_module": "@jupyter-widgets/controls",
            "_model_module_version": "1.5.0",
            "value": 2,
            "_view_count": null,
            "_view_module_version": "1.5.0",
            "orientation": "horizontal",
            "min": 0,
            "description_tooltip": null,
            "_model_module": "@jupyter-widgets/controls",
            "layout": "IPY_MODEL_179bd78fb69a425b875f70d2ea210926"
          }
        },
        "d71b708a1b194a5eb9589a7d14842d16": {
          "model_module": "@jupyter-widgets/controls",
          "model_name": "ProgressStyleModel",
          "state": {
            "_view_name": "StyleView",
            "_model_name": "ProgressStyleModel",
            "description_width": "",
            "_view_module": "@jupyter-widgets/base",
            "_model_module_version": "1.5.0",
            "_view_count": null,
            "_view_module_version": "1.2.0",
            "bar_color": null,
            "_model_module": "@jupyter-widgets/controls"
          }
        },
        "179bd78fb69a425b875f70d2ea210926": {
          "model_module": "@jupyter-widgets/base",
          "model_name": "LayoutModel",
          "state": {
            "_view_name": "LayoutView",
            "grid_template_rows": null,
            "right": null,
            "justify_content": null,
            "_view_module": "@jupyter-widgets/base",
            "overflow": null,
            "_model_module_version": "1.2.0",
            "_view_count": null,
            "flex_flow": null,
            "width": null,
            "min_width": null,
            "border": null,
            "align_items": null,
            "bottom": null,
            "_model_module": "@jupyter-widgets/base",
            "top": null,
            "grid_column": null,
            "overflow_y": null,
            "overflow_x": null,
            "grid_auto_flow": null,
            "grid_area": null,
            "grid_template_columns": null,
            "flex": null,
            "_model_name": "LayoutModel",
            "justify_items": null,
            "grid_row": null,
            "max_height": null,
            "align_content": null,
            "visibility": null,
            "align_self": null,
            "height": null,
            "min_height": null,
            "padding": null,
            "grid_auto_rows": null,
            "grid_gap": null,
            "max_width": null,
            "order": null,
            "_view_module_version": "1.2.0",
            "grid_template_areas": null,
            "object_position": null,
            "object_fit": null,
            "grid_auto_columns": null,
            "margin": null,
            "display": null,
            "left": null
          }
        },
        "cae969889f6d407b9aa9bf25fc1ecb99": {
          "model_module": "@jupyter-widgets/controls",
          "model_name": "IntProgressModel",
          "state": {
            "_view_name": "ProgressView",
            "style": "IPY_MODEL_273859cf84e24929b2445fd89e1625c2",
            "_dom_classes": [],
            "description": "Processing: ",
            "_model_name": "IntProgressModel",
            "bar_style": "",
            "max": 170,
            "_view_module": "@jupyter-widgets/controls",
            "_model_module_version": "1.5.0",
            "value": 170,
            "_view_count": null,
            "_view_module_version": "1.5.0",
            "orientation": "horizontal",
            "min": 0,
            "description_tooltip": null,
            "_model_module": "@jupyter-widgets/controls",
            "layout": "IPY_MODEL_7a4d995934d3441190055ce800e543bd"
          }
        },
        "273859cf84e24929b2445fd89e1625c2": {
          "model_module": "@jupyter-widgets/controls",
          "model_name": "ProgressStyleModel",
          "state": {
            "_view_name": "StyleView",
            "_model_name": "ProgressStyleModel",
            "description_width": "",
            "_view_module": "@jupyter-widgets/base",
            "_model_module_version": "1.5.0",
            "_view_count": null,
            "_view_module_version": "1.2.0",
            "bar_color": null,
            "_model_module": "@jupyter-widgets/controls"
          }
        },
        "7a4d995934d3441190055ce800e543bd": {
          "model_module": "@jupyter-widgets/base",
          "model_name": "LayoutModel",
          "state": {
            "_view_name": "LayoutView",
            "grid_template_rows": null,
            "right": null,
            "justify_content": null,
            "_view_module": "@jupyter-widgets/base",
            "overflow": null,
            "_model_module_version": "1.2.0",
            "_view_count": null,
            "flex_flow": null,
            "width": null,
            "min_width": null,
            "border": null,
            "align_items": null,
            "bottom": null,
            "_model_module": "@jupyter-widgets/base",
            "top": null,
            "grid_column": null,
            "overflow_y": null,
            "overflow_x": null,
            "grid_auto_flow": null,
            "grid_area": null,
            "grid_template_columns": null,
            "flex": null,
            "_model_name": "LayoutModel",
            "justify_items": null,
            "grid_row": null,
            "max_height": null,
            "align_content": null,
            "visibility": null,
            "align_self": null,
            "height": null,
            "min_height": null,
            "padding": null,
            "grid_auto_rows": null,
            "grid_gap": null,
            "max_width": null,
            "order": null,
            "_view_module_version": "1.2.0",
            "grid_template_areas": null,
            "object_position": null,
            "object_fit": null,
            "grid_auto_columns": null,
            "margin": null,
            "display": null,
            "left": null
          }
        }
      }
    }
  },
  "cells": [
    {
      "cell_type": "markdown",
      "metadata": {
        "id": "tIzCyBqM5OE2",
        "colab_type": "text"
      },
      "source": [
        "Credit Card Fraud Detection using different ML Models\n"
      ]
    },
    {
      "cell_type": "code",
      "metadata": {
        "id": "sMGtQ5C35ZNV",
        "colab_type": "code",
        "colab": {
          "base_uri": "https://localhost:8080/",
          "height": 71
        },
        "outputId": "96d597e3-16b2-4778-bed5-e4147707a8fc"
      },
      "source": [
        "#@title \n",
        "import numpy as np\n",
        "import scipy as sp\n",
        "import pandas as pd\n",
        "import matplotlib as mpl\n",
        "import matplotlib.pyplot as plt\n",
        "import seaborn as sns\n",
        "import warnings\n",
        "warnings.filterwarnings(action='once')\n",
        "\n",
        "%matplotlib inline\n",
        "mpl.style.use('ggplot')\n",
        "sns.set(style='whitegrid')"
      ],
      "execution_count": null,
      "outputs": [
        {
          "output_type": "stream",
          "text": [
            "/usr/local/lib/python3.6/dist-packages/statsmodels/tools/_testing.py:19: FutureWarning: pandas.util.testing is deprecated. Use the functions in the public API at pandas.testing instead.\n",
            "  import pandas.util.testing as tm\n"
          ],
          "name": "stderr"
        }
      ]
    },
    {
      "cell_type": "code",
      "metadata": {
        "id": "toVMIVYPqmML",
        "colab_type": "code",
        "colab": {
          "base_uri": "https://localhost:8080/",
          "height": 34
        },
        "outputId": "af4ed1b6-9a0c-41f1-8bad-652d40d43ff6"
      },
      "source": [
        "#title Default title text\n",
        "transactions = pd.read_csv(\"creditcard.csv\")\n",
        "transactions.shape"
      ],
      "execution_count": null,
      "outputs": [
        {
          "output_type": "execute_result",
          "data": {
            "text/plain": [
              "(37722, 31)"
            ]
          },
          "metadata": {
            "tags": []
          },
          "execution_count": 2
        }
      ]
    },
    {
      "cell_type": "code",
      "metadata": {
        "id": "PFd3_B0vq0nY",
        "colab_type": "code",
        "colab": {
          "base_uri": "https://localhost:8080/",
          "height": 663
        },
        "outputId": "ea6e3c2d-0bd4-406b-8f65-b6d97eb148e2"
      },
      "source": [
        "transactions.info()"
      ],
      "execution_count": null,
      "outputs": [
        {
          "output_type": "stream",
          "text": [
            "<class 'pandas.core.frame.DataFrame'>\n",
            "RangeIndex: 37722 entries, 0 to 37721\n",
            "Data columns (total 31 columns):\n",
            " #   Column  Non-Null Count  Dtype  \n",
            "---  ------  --------------  -----  \n",
            " 0   Time    37722 non-null  int64  \n",
            " 1   V1      37722 non-null  float64\n",
            " 2   V2      37722 non-null  float64\n",
            " 3   V3      37722 non-null  float64\n",
            " 4   V4      37722 non-null  float64\n",
            " 5   V5      37722 non-null  float64\n",
            " 6   V6      37722 non-null  float64\n",
            " 7   V7      37721 non-null  float64\n",
            " 8   V8      37721 non-null  float64\n",
            " 9   V9      37721 non-null  float64\n",
            " 10  V10     37721 non-null  float64\n",
            " 11  V11     37721 non-null  float64\n",
            " 12  V12     37721 non-null  float64\n",
            " 13  V13     37721 non-null  float64\n",
            " 14  V14     37721 non-null  float64\n",
            " 15  V15     37721 non-null  float64\n",
            " 16  V16     37721 non-null  float64\n",
            " 17  V17     37721 non-null  float64\n",
            " 18  V18     37721 non-null  float64\n",
            " 19  V19     37721 non-null  float64\n",
            " 20  V20     37721 non-null  float64\n",
            " 21  V21     37721 non-null  float64\n",
            " 22  V22     37721 non-null  float64\n",
            " 23  V23     37721 non-null  float64\n",
            " 24  V24     37721 non-null  float64\n",
            " 25  V25     37721 non-null  float64\n",
            " 26  V26     37721 non-null  float64\n",
            " 27  V27     37721 non-null  float64\n",
            " 28  V28     37721 non-null  float64\n",
            " 29  Amount  37721 non-null  float64\n",
            " 30  Class   37721 non-null  float64\n",
            "dtypes: float64(30), int64(1)\n",
            "memory usage: 8.9 MB\n"
          ],
          "name": "stdout"
        }
      ]
    },
    {
      "cell_type": "code",
      "metadata": {
        "id": "hsydgETJq3AV",
        "colab_type": "code",
        "colab": {
          "base_uri": "https://localhost:8080/",
          "height": 34
        },
        "outputId": "46e412bf-261c-407a-b63e-e1cc2281abd9"
      },
      "source": [
        "#any missing data in CSV file.\n",
        "transactions.isnull().any().any()"
      ],
      "execution_count": null,
      "outputs": [
        {
          "output_type": "execute_result",
          "data": {
            "text/plain": [
              "True"
            ]
          },
          "metadata": {
            "tags": []
          },
          "execution_count": 4
        }
      ]
    },
    {
      "cell_type": "code",
      "metadata": {
        "id": "6Cby8We0rB5X",
        "colab_type": "code",
        "colab": {
          "base_uri": "https://localhost:8080/",
          "height": 224
        },
        "outputId": "a8df2900-58e0-41c9-f6e5-de8f47f82be6"
      },
      "source": [
        "transactions.head()"
      ],
      "execution_count": null,
      "outputs": [
        {
          "output_type": "execute_result",
          "data": {
            "text/html": [
              "<div>\n",
              "<style scoped>\n",
              "    .dataframe tbody tr th:only-of-type {\n",
              "        vertical-align: middle;\n",
              "    }\n",
              "\n",
              "    .dataframe tbody tr th {\n",
              "        vertical-align: top;\n",
              "    }\n",
              "\n",
              "    .dataframe thead th {\n",
              "        text-align: right;\n",
              "    }\n",
              "</style>\n",
              "<table border=\"1\" class=\"dataframe\">\n",
              "  <thead>\n",
              "    <tr style=\"text-align: right;\">\n",
              "      <th></th>\n",
              "      <th>Time</th>\n",
              "      <th>V1</th>\n",
              "      <th>V2</th>\n",
              "      <th>V3</th>\n",
              "      <th>V4</th>\n",
              "      <th>V5</th>\n",
              "      <th>V6</th>\n",
              "      <th>V7</th>\n",
              "      <th>V8</th>\n",
              "      <th>V9</th>\n",
              "      <th>V10</th>\n",
              "      <th>V11</th>\n",
              "      <th>V12</th>\n",
              "      <th>V13</th>\n",
              "      <th>V14</th>\n",
              "      <th>V15</th>\n",
              "      <th>V16</th>\n",
              "      <th>V17</th>\n",
              "      <th>V18</th>\n",
              "      <th>V19</th>\n",
              "      <th>V20</th>\n",
              "      <th>V21</th>\n",
              "      <th>V22</th>\n",
              "      <th>V23</th>\n",
              "      <th>V24</th>\n",
              "      <th>V25</th>\n",
              "      <th>V26</th>\n",
              "      <th>V27</th>\n",
              "      <th>V28</th>\n",
              "      <th>Amount</th>\n",
              "      <th>Class</th>\n",
              "    </tr>\n",
              "  </thead>\n",
              "  <tbody>\n",
              "    <tr>\n",
              "      <th>0</th>\n",
              "      <td>0</td>\n",
              "      <td>-1.359807</td>\n",
              "      <td>-0.072781</td>\n",
              "      <td>2.536347</td>\n",
              "      <td>1.378155</td>\n",
              "      <td>-0.338321</td>\n",
              "      <td>0.462388</td>\n",
              "      <td>0.239599</td>\n",
              "      <td>0.098698</td>\n",
              "      <td>0.363787</td>\n",
              "      <td>0.090794</td>\n",
              "      <td>-0.551600</td>\n",
              "      <td>-0.617801</td>\n",
              "      <td>-0.991390</td>\n",
              "      <td>-0.311169</td>\n",
              "      <td>1.468177</td>\n",
              "      <td>-0.470401</td>\n",
              "      <td>0.207971</td>\n",
              "      <td>0.025791</td>\n",
              "      <td>0.403993</td>\n",
              "      <td>0.251412</td>\n",
              "      <td>-0.018307</td>\n",
              "      <td>0.277838</td>\n",
              "      <td>-0.110474</td>\n",
              "      <td>0.066928</td>\n",
              "      <td>0.128539</td>\n",
              "      <td>-0.189115</td>\n",
              "      <td>0.133558</td>\n",
              "      <td>-0.021053</td>\n",
              "      <td>149.62</td>\n",
              "      <td>0.0</td>\n",
              "    </tr>\n",
              "    <tr>\n",
              "      <th>1</th>\n",
              "      <td>0</td>\n",
              "      <td>1.191857</td>\n",
              "      <td>0.266151</td>\n",
              "      <td>0.166480</td>\n",
              "      <td>0.448154</td>\n",
              "      <td>0.060018</td>\n",
              "      <td>-0.082361</td>\n",
              "      <td>-0.078803</td>\n",
              "      <td>0.085102</td>\n",
              "      <td>-0.255425</td>\n",
              "      <td>-0.166974</td>\n",
              "      <td>1.612727</td>\n",
              "      <td>1.065235</td>\n",
              "      <td>0.489095</td>\n",
              "      <td>-0.143772</td>\n",
              "      <td>0.635558</td>\n",
              "      <td>0.463917</td>\n",
              "      <td>-0.114805</td>\n",
              "      <td>-0.183361</td>\n",
              "      <td>-0.145783</td>\n",
              "      <td>-0.069083</td>\n",
              "      <td>-0.225775</td>\n",
              "      <td>-0.638672</td>\n",
              "      <td>0.101288</td>\n",
              "      <td>-0.339846</td>\n",
              "      <td>0.167170</td>\n",
              "      <td>0.125895</td>\n",
              "      <td>-0.008983</td>\n",
              "      <td>0.014724</td>\n",
              "      <td>2.69</td>\n",
              "      <td>0.0</td>\n",
              "    </tr>\n",
              "    <tr>\n",
              "      <th>2</th>\n",
              "      <td>1</td>\n",
              "      <td>-1.358354</td>\n",
              "      <td>-1.340163</td>\n",
              "      <td>1.773209</td>\n",
              "      <td>0.379780</td>\n",
              "      <td>-0.503198</td>\n",
              "      <td>1.800499</td>\n",
              "      <td>0.791461</td>\n",
              "      <td>0.247676</td>\n",
              "      <td>-1.514654</td>\n",
              "      <td>0.207643</td>\n",
              "      <td>0.624501</td>\n",
              "      <td>0.066084</td>\n",
              "      <td>0.717293</td>\n",
              "      <td>-0.165946</td>\n",
              "      <td>2.345865</td>\n",
              "      <td>-2.890083</td>\n",
              "      <td>1.109969</td>\n",
              "      <td>-0.121359</td>\n",
              "      <td>-2.261857</td>\n",
              "      <td>0.524980</td>\n",
              "      <td>0.247998</td>\n",
              "      <td>0.771679</td>\n",
              "      <td>0.909412</td>\n",
              "      <td>-0.689281</td>\n",
              "      <td>-0.327642</td>\n",
              "      <td>-0.139097</td>\n",
              "      <td>-0.055353</td>\n",
              "      <td>-0.059752</td>\n",
              "      <td>378.66</td>\n",
              "      <td>0.0</td>\n",
              "    </tr>\n",
              "    <tr>\n",
              "      <th>3</th>\n",
              "      <td>1</td>\n",
              "      <td>-0.966272</td>\n",
              "      <td>-0.185226</td>\n",
              "      <td>1.792993</td>\n",
              "      <td>-0.863291</td>\n",
              "      <td>-0.010309</td>\n",
              "      <td>1.247203</td>\n",
              "      <td>0.237609</td>\n",
              "      <td>0.377436</td>\n",
              "      <td>-1.387024</td>\n",
              "      <td>-0.054952</td>\n",
              "      <td>-0.226487</td>\n",
              "      <td>0.178228</td>\n",
              "      <td>0.507757</td>\n",
              "      <td>-0.287924</td>\n",
              "      <td>-0.631418</td>\n",
              "      <td>-1.059647</td>\n",
              "      <td>-0.684093</td>\n",
              "      <td>1.965775</td>\n",
              "      <td>-1.232622</td>\n",
              "      <td>-0.208038</td>\n",
              "      <td>-0.108300</td>\n",
              "      <td>0.005274</td>\n",
              "      <td>-0.190321</td>\n",
              "      <td>-1.175575</td>\n",
              "      <td>0.647376</td>\n",
              "      <td>-0.221929</td>\n",
              "      <td>0.062723</td>\n",
              "      <td>0.061458</td>\n",
              "      <td>123.50</td>\n",
              "      <td>0.0</td>\n",
              "    </tr>\n",
              "    <tr>\n",
              "      <th>4</th>\n",
              "      <td>2</td>\n",
              "      <td>-1.158233</td>\n",
              "      <td>0.877737</td>\n",
              "      <td>1.548718</td>\n",
              "      <td>0.403034</td>\n",
              "      <td>-0.407193</td>\n",
              "      <td>0.095921</td>\n",
              "      <td>0.592941</td>\n",
              "      <td>-0.270533</td>\n",
              "      <td>0.817739</td>\n",
              "      <td>0.753074</td>\n",
              "      <td>-0.822843</td>\n",
              "      <td>0.538196</td>\n",
              "      <td>1.345852</td>\n",
              "      <td>-1.119670</td>\n",
              "      <td>0.175121</td>\n",
              "      <td>-0.451449</td>\n",
              "      <td>-0.237033</td>\n",
              "      <td>-0.038195</td>\n",
              "      <td>0.803487</td>\n",
              "      <td>0.408542</td>\n",
              "      <td>-0.009431</td>\n",
              "      <td>0.798278</td>\n",
              "      <td>-0.137458</td>\n",
              "      <td>0.141267</td>\n",
              "      <td>-0.206010</td>\n",
              "      <td>0.502292</td>\n",
              "      <td>0.219422</td>\n",
              "      <td>0.215153</td>\n",
              "      <td>69.99</td>\n",
              "      <td>0.0</td>\n",
              "    </tr>\n",
              "  </tbody>\n",
              "</table>\n",
              "</div>"
            ],
            "text/plain": [
              "   Time        V1        V2        V3  ...       V27       V28  Amount  Class\n",
              "0     0 -1.359807 -0.072781  2.536347  ...  0.133558 -0.021053  149.62    0.0\n",
              "1     0  1.191857  0.266151  0.166480  ... -0.008983  0.014724    2.69    0.0\n",
              "2     1 -1.358354 -1.340163  1.773209  ... -0.055353 -0.059752  378.66    0.0\n",
              "3     1 -0.966272 -0.185226  1.792993  ...  0.062723  0.061458  123.50    0.0\n",
              "4     2 -1.158233  0.877737  1.548718  ...  0.219422  0.215153   69.99    0.0\n",
              "\n",
              "[5 rows x 31 columns]"
            ]
          },
          "metadata": {
            "tags": []
          },
          "execution_count": 5
        }
      ]
    },
    {
      "cell_type": "code",
      "metadata": {
        "id": "zTwAd92zrE4D",
        "colab_type": "code",
        "colab": {
          "base_uri": "https://localhost:8080/",
          "height": 68
        },
        "outputId": "cfd539ea-23e0-4b06-d282-6174672b2355"
      },
      "source": [
        "#Display the frequency of fraudulent transactions.\n",
        "#1 stands for fradulent and 0 for true.\n",
        "transactions['Class'].value_counts()\n",
        "transactions['Class'].value_counts(normalize = True)"
      ],
      "execution_count": null,
      "outputs": [
        {
          "output_type": "execute_result",
          "data": {
            "text/plain": [
              "0.0    0.997269\n",
              "1.0    0.002731\n",
              "Name: Class, dtype: float64"
            ]
          },
          "metadata": {
            "tags": []
          },
          "execution_count": 6
        }
      ]
    },
    {
      "cell_type": "code",
      "metadata": {
        "id": "nZj4MFvfrfLQ",
        "colab_type": "code",
        "colab": {}
      },
      "source": [
        "#Divide the dataset into training and testing sets.\n",
        "X= transactions.drop(labels='Class',axis = 1) #Features\n",
        "y=transactions.loc[:,'Class']"
      ],
      "execution_count": null,
      "outputs": []
    },
    {
      "cell_type": "code",
      "metadata": {
        "id": "TMkPvuJjrud7",
        "colab_type": "code",
        "colab": {
          "base_uri": "https://localhost:8080/",
          "height": 105
        },
        "outputId": "4e162764-2089-467a-d6a3-fb546918c111"
      },
      "source": [
        "from sklearn.model_selection import train_test_split"
      ],
      "execution_count": null,
      "outputs": [
        {
          "output_type": "stream",
          "text": [
            "/usr/lib/python3.6/importlib/_bootstrap.py:219: RuntimeWarning: numpy.ufunc size changed, may indicate binary incompatibility. Expected 192 from C header, got 216 from PyObject\n",
            "  return f(*args, **kwds)\n",
            "/usr/lib/python3.6/importlib/_bootstrap.py:219: RuntimeWarning: numpy.ufunc size changed, may indicate binary incompatibility. Expected 192 from C header, got 216 from PyObject\n",
            "  return f(*args, **kwds)\n"
          ],
          "name": "stderr"
        }
      ]
    },
    {
      "cell_type": "code",
      "metadata": {
        "id": "TVpnwWOCrykM",
        "colab_type": "code",
        "colab": {}
      },
      "source": [
        "X_train , X_test, y_train, y_test = train_test_split(X , y , test_size=0.2 )"
      ],
      "execution_count": null,
      "outputs": []
    },
    {
      "cell_type": "code",
      "metadata": {
        "id": "VlUfMGAWr2Rz",
        "colab_type": "code",
        "colab": {
          "base_uri": "https://localhost:8080/",
          "height": 34
        },
        "outputId": "10965d69-60c4-4f7e-942d-a154377425e3"
      },
      "source": [
        "X_train.shape,X_test.shape"
      ],
      "execution_count": null,
      "outputs": [
        {
          "output_type": "execute_result",
          "data": {
            "text/plain": [
              "((30177, 30), (7545, 30))"
            ]
          },
          "metadata": {
            "tags": []
          },
          "execution_count": 10
        }
      ]
    },
    {
      "cell_type": "code",
      "metadata": {
        "id": "0Zi24URHtG6R",
        "colab_type": "code",
        "colab": {}
      },
      "source": [
        "#to flag off warnings\n",
        "X_train.is_copy = False\n",
        "X_test.is_copy = False"
      ],
      "execution_count": null,
      "outputs": []
    },
    {
      "cell_type": "code",
      "metadata": {
        "id": "kJ5Khf3ktJ2a",
        "colab_type": "code",
        "colab": {
          "base_uri": "https://localhost:8080/",
          "height": 170
        },
        "outputId": "e84af739-77c9-4e42-99ee-4177a152604b"
      },
      "source": [
        "X_train['Time'].describe()"
      ],
      "execution_count": null,
      "outputs": [
        {
          "output_type": "execute_result",
          "data": {
            "text/plain": [
              "count    30177.000000\n",
              "mean     24752.981178\n",
              "std      12527.985972\n",
              "min          0.000000\n",
              "25%      13916.000000\n",
              "50%      29841.000000\n",
              "75%      34909.000000\n",
              "max      39077.000000\n",
              "Name: Time, dtype: float64"
            ]
          },
          "metadata": {
            "tags": []
          },
          "execution_count": 12
        }
      ]
    },
    {
      "cell_type": "code",
      "metadata": {
        "id": "J8WtHb1GtN5Z",
        "colab_type": "code",
        "colab": {
          "base_uri": "https://localhost:8080/",
          "height": 139
        },
        "outputId": "fec69d38-a823-4a32-bbca-baaa9371d533"
      },
      "source": [
        "#convert seconds to hours for easy of calculations\n",
        "\n",
        "X_train.loc[:,'Time'] = X_train.Time / 3600\n",
        "X_test.loc[:,'Time'] = X_test.Time / 3600\n"
      ],
      "execution_count": null,
      "outputs": [
        {
          "output_type": "stream",
          "text": [
            "/usr/local/lib/python3.6/dist-packages/pandas/core/indexing.py:966: SettingWithCopyWarning: \n",
            "A value is trying to be set on a copy of a slice from a DataFrame.\n",
            "Try using .loc[row_indexer,col_indexer] = value instead\n",
            "\n",
            "See the caveats in the documentation: https://pandas.pydata.org/pandas-docs/stable/user_guide/indexing.html#returning-a-view-versus-a-copy\n",
            "  self.obj[item] = s\n"
          ],
          "name": "stderr"
        }
      ]
    },
    {
      "cell_type": "code",
      "metadata": {
        "id": "6uANGRe9tTT3",
        "colab_type": "code",
        "colab": {
          "base_uri": "https://localhost:8080/",
          "height": 34
        },
        "outputId": "abcd5b9d-23c6-47b4-8d64-8583fe878165"
      },
      "source": [
        "# time of last transaction in days\n",
        "X_train['Time'].max() / 24"
      ],
      "execution_count": null,
      "outputs": [
        {
          "output_type": "execute_result",
          "data": {
            "text/plain": [
              "0.45228009259259255"
            ]
          },
          "metadata": {
            "tags": []
          },
          "execution_count": 14
        }
      ]
    },
    {
      "cell_type": "code",
      "metadata": {
        "id": "ejut5sobtW-9",
        "colab_type": "code",
        "colab": {
          "base_uri": "https://localhost:8080/",
          "height": 535
        },
        "outputId": "2a9d7ce1-6fd8-4d30-bdb9-c6ce24f65456"
      },
      "source": [
        "#histogram of transition times. \n",
        "plt.figure(figsize=(12,8))\n",
        "sns.distplot(X_train['Time'],bins=50,color='green')\n",
        "plt.xlim([0,50])\n",
        "plt.xticks(np.arange(0,50,5))\n",
        "plt.xlabel('Time after 1st transaction(hr)')\n",
        "plt.ylabel('Count')\n",
        "plt.title('Transaction times')"
      ],
      "execution_count": null,
      "outputs": [
        {
          "output_type": "execute_result",
          "data": {
            "text/plain": [
              "Text(0.5, 1.0, 'Transaction times')"
            ]
          },
          "metadata": {
            "tags": []
          },
          "execution_count": 15
        },
        {
          "output_type": "display_data",
          "data": {
            "image/png": "[encoded data removed]",
            "text/plain": [
              "<Figure size 864x576 with 1 Axes>"
            ]
          },
          "metadata": {
            "tags": [],
            "needs_background": "light"
          }
        }
      ]
    },
    {
      "cell_type": "code",
      "metadata": {
        "id": "713SAfoataZw",
        "colab_type": "code",
        "colab": {
          "base_uri": "https://localhost:8080/",
          "height": 170
        },
        "outputId": "6fad4fa1-b8e2-4d86-c49b-015663ee4a3a"
      },
      "source": [
        "#Summary stats\n",
        "X_train['Amount'].describe()"
      ],
      "execution_count": null,
      "outputs": [
        {
          "output_type": "execute_result",
          "data": {
            "text/plain": [
              "count    30176.000000\n",
              "mean        86.346774\n",
              "std        234.814927\n",
              "min          0.000000\n",
              "25%          7.020000\n",
              "50%         22.720000\n",
              "75%         77.000000\n",
              "max       7879.420000\n",
              "Name: Amount, dtype: float64"
            ]
          },
          "metadata": {
            "tags": []
          },
          "execution_count": 16
        }
      ]
    },
    {
      "cell_type": "code",
      "metadata": {
        "id": "rv0P6tX0teFp",
        "colab_type": "code",
        "colab": {
          "base_uri": "https://localhost:8080/",
          "height": 535
        },
        "outputId": "6e09520d-80fc-4214-c9a4-425febba8bc2"
      },
      "source": [
        "plt.figure(figsize=(12,8))\n",
        "sns.distplot(X_train['Amount'],bins=300,color='g')\n",
        "plt.ylabel('Count')\n",
        "plt.title('Transaction Amounts')"
      ],
      "execution_count": null,
      "outputs": [
        {
          "output_type": "execute_result",
          "data": {
            "text/plain": [
              "Text(0.5, 1.0, 'Transaction Amounts')"
            ]
          },
          "metadata": {
            "tags": []
          },
          "execution_count": 17
        },
        {
          "output_type": "display_data",
          "data": {
            "image/png": "[encoded data removed]",
            "text/plain": [
              "<Figure size 864x576 with 1 Axes>"
            ]
          },
          "metadata": {
            "tags": [],
            "needs_background": "light"
          }
        }
      ]
    },
    {
      "cell_type": "code",
      "metadata": {
        "id": "CTAjuSoCtguO",
        "colab_type": "code",
        "colab": {
          "base_uri": "https://localhost:8080/",
          "height": 590
        },
        "outputId": "976ae062-4387-490b-ac90-10338f31809c"
      },
      "source": [
        "# box plot as the histogram doesnot shoe the details properly.\n",
        "plt.figure(figsize=(12,8), dpi=80)\n",
        "sns.boxplot(X_train['Amount'])\n",
        "plt.title('Transaction Amounts')"
      ],
      "execution_count": null,
      "outputs": [
        {
          "output_type": "execute_result",
          "data": {
            "text/plain": [
              "Text(0.5, 1.0, 'Transaction Amounts')"
            ]
          },
          "metadata": {
            "tags": []
          },
          "execution_count": 18
        },
        {
          "output_type": "display_data",
          "data": {
            "image/png": "[encoded data removed]",
            "text/plain": [
              "<Figure size 960x640 with 1 Axes>"
            ]
          },
          "metadata": {
            "tags": [],
            "needs_background": "light"
          }
        }
      ]
    },
    {
      "cell_type": "code",
      "metadata": {
        "id": "7J0N9akDtj8G",
        "colab_type": "code",
        "colab": {
          "base_uri": "https://localhost:8080/",
          "height": 34
        },
        "outputId": "55703623-10e9-4a9e-b226-e5381ffb0275"
      },
      "source": [
        "#There are no outliers in the left and right side. Thus the amounts were roght skewed. We can check for the skewness to be sure.\n",
        "X_train['Amount'].skew()"
      ],
      "execution_count": null,
      "outputs": [
        {
          "output_type": "execute_result",
          "data": {
            "text/plain": [
              "10.579275630101533"
            ]
          },
          "metadata": {
            "tags": []
          },
          "execution_count": 19
        }
      ]
    },
    {
      "cell_type": "code",
      "metadata": {
        "id": "EXfuyHRotm2-",
        "colab_type": "code",
        "colab": {
          "base_uri": "https://localhost:8080/",
          "height": 139
        },
        "outputId": "6125051c-8539-49ad-b56e-8082452d5823"
      },
      "source": [
        "#Lets remove the skewness and convert the data into a normal distribution.\n",
        "X_train.loc[:,'Amount'] = X_train['Amount']+ 1e-9\n",
        "# Shift all amounts by 1e-9"
      ],
      "execution_count": null,
      "outputs": [
        {
          "output_type": "stream",
          "text": [
            "/usr/local/lib/python3.6/dist-packages/pandas/core/indexing.py:1048: SettingWithCopyWarning: \n",
            "A value is trying to be set on a copy of a slice from a DataFrame.\n",
            "Try using .loc[row_indexer,col_indexer] = value instead\n",
            "\n",
            "See the caveats in the documentation: https://pandas.pydata.org/pandas-docs/stable/user_guide/indexing.html#returning-a-view-versus-a-copy\n",
            "  self.obj[item_labels[indexer[info_axis]]] = value\n"
          ],
          "name": "stderr"
        }
      ]
    },
    {
      "cell_type": "code",
      "metadata": {
        "id": "-65TXSM3t0LZ",
        "colab_type": "code",
        "colab": {
          "base_uri": "https://localhost:8080/",
          "height": 173
        },
        "outputId": "d6b601be-2813-4312-bebc-0616dc1e024a"
      },
      "source": [
        "#Performing Box-Cox Transform\n",
        "from scipy import stats\n",
        "X_train.loc[:,'Amount'], maxlog, (min_ci, max_ci) = sp.stats.boxcox(X_train['Amount'], alpha=0.01)"
      ],
      "execution_count": null,
      "outputs": [
        {
          "output_type": "stream",
          "text": [
            "/usr/local/lib/python3.6/dist-packages/scipy/stats/morestats.py:1044: RuntimeWarning: invalid value encountered in less_equal\n",
            "  if any(x <= 0):\n",
            "/usr/local/lib/python3.6/dist-packages/pandas/core/indexing.py:1048: SettingWithCopyWarning: \n",
            "A value is trying to be set on a copy of a slice from a DataFrame.\n",
            "Try using .loc[row_indexer,col_indexer] = value instead\n",
            "\n",
            "See the caveats in the documentation: https://pandas.pydata.org/pandas-docs/stable/user_guide/indexing.html#returning-a-view-versus-a-copy\n",
            "  self.obj[item_labels[indexer[info_axis]]] = value\n"
          ],
          "name": "stderr"
        }
      ]
    },
    {
      "cell_type": "code",
      "metadata": {
        "id": "MyL6Cygwt-Vh",
        "colab_type": "code",
        "colab": {
          "base_uri": "https://localhost:8080/",
          "height": 490
        },
        "outputId": "ad6c39de-3cda-4d04-95ef-87ce7930c0d9"
      },
      "source": [
        "#The maximum likelihood estimate of  λ  in the Box-Cox transform:\n",
        "X_train.dropna()"
      ],
      "execution_count": null,
      "outputs": [
        {
          "output_type": "execute_result",
          "data": {
            "text/html": [
              "<div>\n",
              "<style scoped>\n",
              "    .dataframe tbody tr th:only-of-type {\n",
              "        vertical-align: middle;\n",
              "    }\n",
              "\n",
              "    .dataframe tbody tr th {\n",
              "        vertical-align: top;\n",
              "    }\n",
              "\n",
              "    .dataframe thead th {\n",
              "        text-align: right;\n",
              "    }\n",
              "</style>\n",
              "<table border=\"1\" class=\"dataframe\">\n",
              "  <thead>\n",
              "    <tr style=\"text-align: right;\">\n",
              "      <th></th>\n",
              "      <th>Time</th>\n",
              "      <th>V1</th>\n",
              "      <th>V2</th>\n",
              "      <th>V3</th>\n",
              "      <th>V4</th>\n",
              "      <th>V5</th>\n",
              "      <th>V6</th>\n",
              "      <th>V7</th>\n",
              "      <th>V8</th>\n",
              "      <th>V9</th>\n",
              "      <th>V10</th>\n",
              "      <th>V11</th>\n",
              "      <th>V12</th>\n",
              "      <th>V13</th>\n",
              "      <th>V14</th>\n",
              "      <th>V15</th>\n",
              "      <th>V16</th>\n",
              "      <th>V17</th>\n",
              "      <th>V18</th>\n",
              "      <th>V19</th>\n",
              "      <th>V20</th>\n",
              "      <th>V21</th>\n",
              "      <th>V22</th>\n",
              "      <th>V23</th>\n",
              "      <th>V24</th>\n",
              "      <th>V25</th>\n",
              "      <th>V26</th>\n",
              "      <th>V27</th>\n",
              "      <th>V28</th>\n",
              "      <th>Amount</th>\n",
              "    </tr>\n",
              "  </thead>\n",
              "  <tbody>\n",
              "    <tr>\n",
              "      <th>22150</th>\n",
              "      <td>8.906667</td>\n",
              "      <td>-0.008188</td>\n",
              "      <td>1.117178</td>\n",
              "      <td>0.613191</td>\n",
              "      <td>1.328874</td>\n",
              "      <td>0.822263</td>\n",
              "      <td>-0.514532</td>\n",
              "      <td>0.659401</td>\n",
              "      <td>-0.153569</td>\n",
              "      <td>-0.708958</td>\n",
              "      <td>-0.442096</td>\n",
              "      <td>1.543930</td>\n",
              "      <td>-0.213506</td>\n",
              "      <td>-0.445685</td>\n",
              "      <td>-1.675142</td>\n",
              "      <td>0.844876</td>\n",
              "      <td>0.569295</td>\n",
              "      <td>0.958228</td>\n",
              "      <td>1.692684</td>\n",
              "      <td>0.696467</td>\n",
              "      <td>0.170265</td>\n",
              "      <td>0.033305</td>\n",
              "      <td>0.273073</td>\n",
              "      <td>-0.279479</td>\n",
              "      <td>-0.156676</td>\n",
              "      <td>-0.063629</td>\n",
              "      <td>-0.227161</td>\n",
              "      <td>-0.070468</td>\n",
              "      <td>-0.155958</td>\n",
              "      <td>1.000000e-09</td>\n",
              "    </tr>\n",
              "    <tr>\n",
              "      <th>15850</th>\n",
              "      <td>7.581111</td>\n",
              "      <td>-0.951807</td>\n",
              "      <td>0.916797</td>\n",
              "      <td>1.257451</td>\n",
              "      <td>-1.582607</td>\n",
              "      <td>0.250870</td>\n",
              "      <td>-0.424307</td>\n",
              "      <td>0.840887</td>\n",
              "      <td>-0.264923</td>\n",
              "      <td>0.653181</td>\n",
              "      <td>0.778953</td>\n",
              "      <td>1.529548</td>\n",
              "      <td>0.060569</td>\n",
              "      <td>-1.171309</td>\n",
              "      <td>-0.177322</td>\n",
              "      <td>0.153704</td>\n",
              "      <td>0.209895</td>\n",
              "      <td>-0.790681</td>\n",
              "      <td>-0.380628</td>\n",
              "      <td>-0.817584</td>\n",
              "      <td>0.277184</td>\n",
              "      <td>-0.136304</td>\n",
              "      <td>0.004215</td>\n",
              "      <td>-0.059275</td>\n",
              "      <td>0.032935</td>\n",
              "      <td>-0.314802</td>\n",
              "      <td>0.709529</td>\n",
              "      <td>-0.192677</td>\n",
              "      <td>-0.260456</td>\n",
              "      <td>-1.051414e-01</td>\n",
              "    </tr>\n",
              "    <tr>\n",
              "      <th>7676</th>\n",
              "      <td>2.956389</td>\n",
              "      <td>-2.372834</td>\n",
              "      <td>-0.612308</td>\n",
              "      <td>3.224686</td>\n",
              "      <td>3.758968</td>\n",
              "      <td>-0.483226</td>\n",
              "      <td>1.615778</td>\n",
              "      <td>-1.719115</td>\n",
              "      <td>1.101559</td>\n",
              "      <td>1.853864</td>\n",
              "      <td>0.467220</td>\n",
              "      <td>0.978996</td>\n",
              "      <td>-2.285457</td>\n",
              "      <td>0.157705</td>\n",
              "      <td>0.731574</td>\n",
              "      <td>-2.025575</td>\n",
              "      <td>-0.624413</td>\n",
              "      <td>1.654810</td>\n",
              "      <td>0.788221</td>\n",
              "      <td>0.983593</td>\n",
              "      <td>0.350868</td>\n",
              "      <td>-0.021965</td>\n",
              "      <td>0.630479</td>\n",
              "      <td>-0.499405</td>\n",
              "      <td>0.021481</td>\n",
              "      <td>0.060255</td>\n",
              "      <td>0.499542</td>\n",
              "      <td>0.329417</td>\n",
              "      <td>-0.259837</td>\n",
              "      <td>1.672668e+14</td>\n",
              "    </tr>\n",
              "    <tr>\n",
              "      <th>5819</th>\n",
              "      <td>1.745833</td>\n",
              "      <td>-0.009864</td>\n",
              "      <td>-1.857852</td>\n",
              "      <td>0.675316</td>\n",
              "      <td>1.979426</td>\n",
              "      <td>-1.513061</td>\n",
              "      <td>-0.028978</td>\n",
              "      <td>0.141403</td>\n",
              "      <td>-0.163109</td>\n",
              "      <td>2.031836</td>\n",
              "      <td>-0.784263</td>\n",
              "      <td>0.214690</td>\n",
              "      <td>-2.263129</td>\n",
              "      <td>1.585303</td>\n",
              "      <td>1.366030</td>\n",
              "      <td>-0.011019</td>\n",
              "      <td>0.305295</td>\n",
              "      <td>0.358815</td>\n",
              "      <td>0.639206</td>\n",
              "      <td>-0.828640</td>\n",
              "      <td>1.055334</td>\n",
              "      <td>0.342287</td>\n",
              "      <td>0.009599</td>\n",
              "      <td>-0.615768</td>\n",
              "      <td>0.379125</td>\n",
              "      <td>0.256018</td>\n",
              "      <td>-0.361702</td>\n",
              "      <td>-0.074888</td>\n",
              "      <td>0.135587</td>\n",
              "      <td>5.233251e+22</td>\n",
              "    </tr>\n",
              "    <tr>\n",
              "      <th>17484</th>\n",
              "      <td>7.988889</td>\n",
              "      <td>-2.184207</td>\n",
              "      <td>0.975153</td>\n",
              "      <td>0.785831</td>\n",
              "      <td>-0.634514</td>\n",
              "      <td>-0.454746</td>\n",
              "      <td>-0.093019</td>\n",
              "      <td>0.460788</td>\n",
              "      <td>0.195005</td>\n",
              "      <td>1.041183</td>\n",
              "      <td>0.487619</td>\n",
              "      <td>-1.582818</td>\n",
              "      <td>-0.262672</td>\n",
              "      <td>-0.030099</td>\n",
              "      <td>-0.551963</td>\n",
              "      <td>0.036893</td>\n",
              "      <td>0.566484</td>\n",
              "      <td>-0.782063</td>\n",
              "      <td>0.186272</td>\n",
              "      <td>-0.457555</td>\n",
              "      <td>0.117216</td>\n",
              "      <td>-0.081470</td>\n",
              "      <td>0.360072</td>\n",
              "      <td>-0.478613</td>\n",
              "      <td>-0.388739</td>\n",
              "      <td>0.190385</td>\n",
              "      <td>0.463784</td>\n",
              "      <td>0.163767</td>\n",
              "      <td>0.125424</td>\n",
              "      <td>8.377691e+15</td>\n",
              "    </tr>\n",
              "    <tr>\n",
              "      <th>...</th>\n",
              "      <td>...</td>\n",
              "      <td>...</td>\n",
              "      <td>...</td>\n",
              "      <td>...</td>\n",
              "      <td>...</td>\n",
              "      <td>...</td>\n",
              "      <td>...</td>\n",
              "      <td>...</td>\n",
              "      <td>...</td>\n",
              "      <td>...</td>\n",
              "      <td>...</td>\n",
              "      <td>...</td>\n",
              "      <td>...</td>\n",
              "      <td>...</td>\n",
              "      <td>...</td>\n",
              "      <td>...</td>\n",
              "      <td>...</td>\n",
              "      <td>...</td>\n",
              "      <td>...</td>\n",
              "      <td>...</td>\n",
              "      <td>...</td>\n",
              "      <td>...</td>\n",
              "      <td>...</td>\n",
              "      <td>...</td>\n",
              "      <td>...</td>\n",
              "      <td>...</td>\n",
              "      <td>...</td>\n",
              "      <td>...</td>\n",
              "      <td>...</td>\n",
              "      <td>...</td>\n",
              "    </tr>\n",
              "    <tr>\n",
              "      <th>11368</th>\n",
              "      <td>5.507778</td>\n",
              "      <td>-0.693441</td>\n",
              "      <td>0.362902</td>\n",
              "      <td>2.651711</td>\n",
              "      <td>-1.749294</td>\n",
              "      <td>-0.288551</td>\n",
              "      <td>-0.201163</td>\n",
              "      <td>0.310430</td>\n",
              "      <td>-0.067021</td>\n",
              "      <td>2.665408</td>\n",
              "      <td>-2.065905</td>\n",
              "      <td>0.485218</td>\n",
              "      <td>-2.469523</td>\n",
              "      <td>0.732424</td>\n",
              "      <td>1.091388</td>\n",
              "      <td>0.296444</td>\n",
              "      <td>-0.656595</td>\n",
              "      <td>0.577169</td>\n",
              "      <td>0.161563</td>\n",
              "      <td>-0.513882</td>\n",
              "      <td>-0.145333</td>\n",
              "      <td>-0.139206</td>\n",
              "      <td>0.151427</td>\n",
              "      <td>-0.333633</td>\n",
              "      <td>0.007430</td>\n",
              "      <td>0.367123</td>\n",
              "      <td>-0.810258</td>\n",
              "      <td>-0.071310</td>\n",
              "      <td>-0.157226</td>\n",
              "      <td>1.474670e+08</td>\n",
              "    </tr>\n",
              "    <tr>\n",
              "      <th>23846</th>\n",
              "      <td>9.152778</td>\n",
              "      <td>1.273745</td>\n",
              "      <td>0.278094</td>\n",
              "      <td>-0.075297</td>\n",
              "      <td>0.446751</td>\n",
              "      <td>0.215297</td>\n",
              "      <td>-0.125249</td>\n",
              "      <td>-0.017577</td>\n",
              "      <td>-0.004897</td>\n",
              "      <td>0.103271</td>\n",
              "      <td>-0.321924</td>\n",
              "      <td>-0.615061</td>\n",
              "      <td>-0.016210</td>\n",
              "      <td>0.241839</td>\n",
              "      <td>-0.287598</td>\n",
              "      <td>1.419394</td>\n",
              "      <td>0.436130</td>\n",
              "      <td>-0.025899</td>\n",
              "      <td>-0.460613</td>\n",
              "      <td>-0.239227</td>\n",
              "      <td>-0.094043</td>\n",
              "      <td>-0.316963</td>\n",
              "      <td>-0.878888</td>\n",
              "      <td>0.057085</td>\n",
              "      <td>-0.810224</td>\n",
              "      <td>0.251885</td>\n",
              "      <td>0.176653</td>\n",
              "      <td>-0.008267</td>\n",
              "      <td>0.018517</td>\n",
              "      <td>-9.634343e-03</td>\n",
              "    </tr>\n",
              "    <tr>\n",
              "      <th>33056</th>\n",
              "      <td>10.297778</td>\n",
              "      <td>1.441339</td>\n",
              "      <td>-0.344212</td>\n",
              "      <td>-0.152643</td>\n",
              "      <td>-1.564018</td>\n",
              "      <td>-0.760706</td>\n",
              "      <td>-1.496772</td>\n",
              "      <td>0.019564</td>\n",
              "      <td>-0.482343</td>\n",
              "      <td>-0.336897</td>\n",
              "      <td>-0.147782</td>\n",
              "      <td>-0.132884</td>\n",
              "      <td>1.064876</td>\n",
              "      <td>1.650776</td>\n",
              "      <td>0.098470</td>\n",
              "      <td>1.121457</td>\n",
              "      <td>-2.357300</td>\n",
              "      <td>0.063921</td>\n",
              "      <td>0.996734</td>\n",
              "      <td>-0.150974</td>\n",
              "      <td>-0.446051</td>\n",
              "      <td>-0.360886</td>\n",
              "      <td>-0.358103</td>\n",
              "      <td>-0.071963</td>\n",
              "      <td>0.411756</td>\n",
              "      <td>0.780308</td>\n",
              "      <td>-0.634600</td>\n",
              "      <td>0.064483</td>\n",
              "      <td>0.022217</td>\n",
              "      <td>4.005466e+01</td>\n",
              "    </tr>\n",
              "    <tr>\n",
              "      <th>29109</th>\n",
              "      <td>9.812778</td>\n",
              "      <td>1.332906</td>\n",
              "      <td>-0.843774</td>\n",
              "      <td>1.113725</td>\n",
              "      <td>-0.544235</td>\n",
              "      <td>-1.508369</td>\n",
              "      <td>-0.054470</td>\n",
              "      <td>-1.306440</td>\n",
              "      <td>0.204304</td>\n",
              "      <td>0.047244</td>\n",
              "      <td>0.496808</td>\n",
              "      <td>-0.505222</td>\n",
              "      <td>-0.894504</td>\n",
              "      <td>-0.748609</td>\n",
              "      <td>-0.495897</td>\n",
              "      <td>0.715365</td>\n",
              "      <td>0.935144</td>\n",
              "      <td>0.645239</td>\n",
              "      <td>-1.358668</td>\n",
              "      <td>0.110764</td>\n",
              "      <td>-0.040124</td>\n",
              "      <td>0.317958</td>\n",
              "      <td>1.003963</td>\n",
              "      <td>-0.053029</td>\n",
              "      <td>0.112019</td>\n",
              "      <td>0.355148</td>\n",
              "      <td>-0.012805</td>\n",
              "      <td>0.061967</td>\n",
              "      <td>0.018442</td>\n",
              "      <td>-1.180340e-01</td>\n",
              "    </tr>\n",
              "    <tr>\n",
              "      <th>21757</th>\n",
              "      <td>8.845278</td>\n",
              "      <td>1.323251</td>\n",
              "      <td>-0.567072</td>\n",
              "      <td>-0.188804</td>\n",
              "      <td>-0.303264</td>\n",
              "      <td>-0.041678</td>\n",
              "      <td>0.844246</td>\n",
              "      <td>-0.497798</td>\n",
              "      <td>0.156353</td>\n",
              "      <td>-0.871495</td>\n",
              "      <td>0.742811</td>\n",
              "      <td>-0.160999</td>\n",
              "      <td>0.612392</td>\n",
              "      <td>0.619209</td>\n",
              "      <td>-0.069422</td>\n",
              "      <td>-0.817075</td>\n",
              "      <td>-1.603602</td>\n",
              "      <td>-0.152404</td>\n",
              "      <td>1.106504</td>\n",
              "      <td>-0.110395</td>\n",
              "      <td>-0.447684</td>\n",
              "      <td>-0.514577</td>\n",
              "      <td>-0.842303</td>\n",
              "      <td>-0.148808</td>\n",
              "      <td>-1.328910</td>\n",
              "      <td>0.552587</td>\n",
              "      <td>0.463050</td>\n",
              "      <td>0.004426</td>\n",
              "      <td>-0.010352</td>\n",
              "      <td>2.150436e+11</td>\n",
              "    </tr>\n",
              "  </tbody>\n",
              "</table>\n",
              "<p>30176 rows × 30 columns</p>\n",
              "</div>"
            ],
            "text/plain": [
              "            Time        V1        V2  ...       V27       V28        Amount\n",
              "22150   8.906667 -0.008188  1.117178  ... -0.070468 -0.155958  1.000000e-09\n",
              "15850   7.581111 -0.951807  0.916797  ... -0.192677 -0.260456 -1.051414e-01\n",
              "7676    2.956389 -2.372834 -0.612308  ...  0.329417 -0.259837  1.672668e+14\n",
              "5819    1.745833 -0.009864 -1.857852  ... -0.074888  0.135587  5.233251e+22\n",
              "17484   7.988889 -2.184207  0.975153  ...  0.163767  0.125424  8.377691e+15\n",
              "...          ...       ...       ...  ...       ...       ...           ...\n",
              "11368   5.507778 -0.693441  0.362902  ... -0.071310 -0.157226  1.474670e+08\n",
              "23846   9.152778  1.273745  0.278094  ... -0.008267  0.018517 -9.634343e-03\n",
              "33056  10.297778  1.441339 -0.344212  ...  0.064483  0.022217  4.005466e+01\n",
              "29109   9.812778  1.332906 -0.843774  ...  0.061967  0.018442 -1.180340e-01\n",
              "21757   8.845278  1.323251 -0.567072  ...  0.004426 -0.010352  2.150436e+11\n",
              "\n",
              "[30176 rows x 30 columns]"
            ]
          },
          "metadata": {
            "tags": []
          },
          "execution_count": 22
        }
      ]
    },
    {
      "cell_type": "code",
      "metadata": {
        "id": "hvJk0bKbuD8-",
        "colab_type": "code",
        "colab": {
          "base_uri": "https://localhost:8080/",
          "height": 535
        },
        "outputId": "d01a531b-4308-40b1-e085-914585b44088"
      },
      "source": [
        "#plotting newly transformed accounts\n",
        "plt.figure(figsize=(12,8))\n",
        "sns.distplot(X_train['Amount'],color='g')\n",
        "plt.xlabel('Transformed Amount')\n",
        "plt.ylabel('Count')\n",
        "plt.title('Transaction Amounts (Box-Cox Transformed)')"
      ],
      "execution_count": null,
      "outputs": [
        {
          "output_type": "execute_result",
          "data": {
            "text/plain": [
              "Text(0.5, 1.0, 'Transaction Amounts (Box-Cox Transformed)')"
            ]
          },
          "metadata": {
            "tags": []
          },
          "execution_count": 29
        },
        {
          "output_type": "display_data",
          "data": {
            "image/png": "[encoded data removed]",
            "text/plain": [
              "<Figure size 864x576 with 1 Axes>"
            ]
          },
          "metadata": {
            "tags": [],
            "needs_background": "light"
          }
        }
      ]
    },
    {
      "cell_type": "code",
      "metadata": {
        "id": "UvIfjH9-uJ9M",
        "colab_type": "code",
        "colab": {
          "base_uri": "https://localhost:8080/",
          "height": 170
        },
        "outputId": "5ad206f6-5a68-48b6-9fe0-cb8a4c99f677"
      },
      "source": [
        "X_train['Amount'].describe()"
      ],
      "execution_count": null,
      "outputs": [
        {
          "output_type": "execute_result",
          "data": {
            "text/plain": [
              "count    3.017600e+04\n",
              "mean     9.655897e+27\n",
              "std      9.442874e+29\n",
              "min     -1.180340e-01\n",
              "25%      1.746988e+06\n",
              "50%      3.661699e+10\n",
              "75%      1.133999e+15\n",
              "max      1.212371e+32\n",
              "Name: Amount, dtype: float64"
            ]
          },
          "metadata": {
            "tags": []
          },
          "execution_count": 25
        }
      ]
    },
    {
      "cell_type": "code",
      "metadata": {
        "id": "MJ8UeKfuuNMJ",
        "colab_type": "code",
        "colab": {
          "base_uri": "https://localhost:8080/",
          "height": 34
        },
        "outputId": "9b6b60e2-84af-42d6-f0d6-5080cf6bd9c8"
      },
      "source": [
        "X_train['Amount'].skew()"
      ],
      "execution_count": null,
      "outputs": [
        {
          "output_type": "execute_result",
          "data": {
            "text/plain": [
              "113.8191382176832"
            ]
          },
          "metadata": {
            "tags": []
          },
          "execution_count": 26
        }
      ]
    },
    {
      "cell_type": "code",
      "metadata": {
        "id": "btKgaK3UuPjh",
        "colab_type": "code",
        "colab": {}
      },
      "source": [
        "#So our power transform removed most of the skewness in the Amount variable. Now we need to compute the Box-Cox transform on the test data amounts as well, using the  λ  value estimated on the training data."
      ],
      "execution_count": null,
      "outputs": []
    },
    {
      "cell_type": "code",
      "metadata": {
        "id": "kIlzcKPkuXaG",
        "colab_type": "code",
        "colab": {
          "base_uri": "https://localhost:8080/",
          "height": 139
        },
        "outputId": "055ce089-d7aa-4334-d810-3b6e771e4624"
      },
      "source": [
        "X_test.loc[:,'Amount'] = X_test['Amount'] + 1e-9 # Shift all amounts by 1e-9\n",
        "X_test.loc[:,'Amount'] = sp.stats.boxcox(X_test['Amount'], lmbda=maxlog)"
      ],
      "execution_count": null,
      "outputs": [
        {
          "output_type": "stream",
          "text": [
            "/usr/local/lib/python3.6/dist-packages/pandas/core/indexing.py:1048: SettingWithCopyWarning: \n",
            "A value is trying to be set on a copy of a slice from a DataFrame.\n",
            "Try using .loc[row_indexer,col_indexer] = value instead\n",
            "\n",
            "See the caveats in the documentation: https://pandas.pydata.org/pandas-docs/stable/user_guide/indexing.html#returning-a-view-versus-a-copy\n",
            "  self.obj[item_labels[indexer[info_axis]]] = value\n"
          ],
          "name": "stderr"
        }
      ]
    },
    {
      "cell_type": "code",
      "metadata": {
        "id": "Z5icTkxNuaLz",
        "colab_type": "code",
        "colab": {
          "base_uri": "https://localhost:8080/",
          "height": 944
        },
        "outputId": "7398f486-15a8-4dfc-b2d8-6504967c60ce"
      },
      "source": [
        "#Time vs Amount\n",
        "sns.jointplot(X_train['Time'].apply(lambda x: x % 24), X_train['Amount'], kind='hex', stat_func=None, size=12, xlim=(0,24), ylim=(-7.5,14)).set_axis_labels('Time of Day (hr)','Transformed Amount')"
      ],
      "execution_count": null,
      "outputs": [
        {
          "output_type": "stream",
          "text": [
            "/usr/local/lib/python3.6/dist-packages/seaborn/axisgrid.py:2264: UserWarning: The `size` parameter has been renamed to `height`; please update your code.\n",
            "  warnings.warn(msg, UserWarning)\n"
          ],
          "name": "stderr"
        },
        {
          "output_type": "execute_result",
          "data": {
            "text/plain": [
              "<seaborn.axisgrid.JointGrid at 0x7f76630b3390>"
            ]
          },
          "metadata": {
            "tags": []
          },
          "execution_count": 28
        },
        {
          "output_type": "display_data",
          "data": {
            "image/png": "[encoded data removed]",
            "text/plain": [
              "<Figure size 864x864 with 3 Axes>"
            ]
          },
          "metadata": {
            "tags": [],
            "needs_background": "light"
          }
        }
      ]
    },
    {
      "cell_type": "code",
      "metadata": {
        "id": "PBeZOLnxww0w",
        "colab_type": "code",
        "colab": {}
      },
      "source": [
        "#Let's compare the descriptive stats of the PCA variables V1-V28.\n",
        "pca_vars = ['V%i' % k for k in range(1,29)]"
      ],
      "execution_count": null,
      "outputs": []
    },
    {
      "cell_type": "code",
      "metadata": {
        "id": "zdi9HXL3xCNY",
        "colab_type": "code",
        "colab": {}
      },
      "source": [
        "#Full Table descriptive stats"
      ],
      "execution_count": null,
      "outputs": []
    },
    {
      "cell_type": "code",
      "metadata": {
        "id": "K6LlAvpNw7nq",
        "colab_type": "code",
        "colab": {
          "base_uri": "https://localhost:8080/",
          "height": 317
        },
        "outputId": "464dc64c-9e39-40c0-fe23-304ba4f2ebad"
      },
      "source": [
        "X_train[pca_vars].describe()"
      ],
      "execution_count": null,
      "outputs": [
        {
          "output_type": "execute_result",
          "data": {
            "text/html": [
              "<div>\n",
              "<style scoped>\n",
              "    .dataframe tbody tr th:only-of-type {\n",
              "        vertical-align: middle;\n",
              "    }\n",
              "\n",
              "    .dataframe tbody tr th {\n",
              "        vertical-align: top;\n",
              "    }\n",
              "\n",
              "    .dataframe thead th {\n",
              "        text-align: right;\n",
              "    }\n",
              "</style>\n",
              "<table border=\"1\" class=\"dataframe\">\n",
              "  <thead>\n",
              "    <tr style=\"text-align: right;\">\n",
              "      <th></th>\n",
              "      <th>V1</th>\n",
              "      <th>V2</th>\n",
              "      <th>V3</th>\n",
              "      <th>V4</th>\n",
              "      <th>V5</th>\n",
              "      <th>V6</th>\n",
              "      <th>V7</th>\n",
              "      <th>V8</th>\n",
              "      <th>V9</th>\n",
              "      <th>V10</th>\n",
              "      <th>V11</th>\n",
              "      <th>V12</th>\n",
              "      <th>V13</th>\n",
              "      <th>V14</th>\n",
              "      <th>V15</th>\n",
              "      <th>V16</th>\n",
              "      <th>V17</th>\n",
              "      <th>V18</th>\n",
              "      <th>V19</th>\n",
              "      <th>V20</th>\n",
              "      <th>V21</th>\n",
              "      <th>V22</th>\n",
              "      <th>V23</th>\n",
              "      <th>V24</th>\n",
              "      <th>V25</th>\n",
              "      <th>V26</th>\n",
              "      <th>V27</th>\n",
              "      <th>V28</th>\n",
              "    </tr>\n",
              "  </thead>\n",
              "  <tbody>\n",
              "    <tr>\n",
              "      <th>count</th>\n",
              "      <td>30177.000000</td>\n",
              "      <td>30177.000000</td>\n",
              "      <td>30177.000000</td>\n",
              "      <td>30177.000000</td>\n",
              "      <td>30177.000000</td>\n",
              "      <td>30177.000000</td>\n",
              "      <td>30176.000000</td>\n",
              "      <td>30176.000000</td>\n",
              "      <td>30176.000000</td>\n",
              "      <td>30176.000000</td>\n",
              "      <td>30176.000000</td>\n",
              "      <td>30176.000000</td>\n",
              "      <td>30176.000000</td>\n",
              "      <td>30176.000000</td>\n",
              "      <td>30176.000000</td>\n",
              "      <td>30176.000000</td>\n",
              "      <td>30176.000000</td>\n",
              "      <td>30176.000000</td>\n",
              "      <td>30176.000000</td>\n",
              "      <td>30176.000000</td>\n",
              "      <td>30176.000000</td>\n",
              "      <td>30176.000000</td>\n",
              "      <td>30176.000000</td>\n",
              "      <td>30176.000000</td>\n",
              "      <td>30176.000000</td>\n",
              "      <td>30176.000000</td>\n",
              "      <td>30176.000000</td>\n",
              "      <td>30176.000000</td>\n",
              "    </tr>\n",
              "    <tr>\n",
              "      <th>mean</th>\n",
              "      <td>-0.210587</td>\n",
              "      <td>0.065615</td>\n",
              "      <td>0.711393</td>\n",
              "      <td>0.197848</td>\n",
              "      <td>-0.224983</td>\n",
              "      <td>0.095436</td>\n",
              "      <td>-0.112634</td>\n",
              "      <td>0.037474</td>\n",
              "      <td>0.228722</td>\n",
              "      <td>-0.078080</td>\n",
              "      <td>0.437167</td>\n",
              "      <td>-0.496658</td>\n",
              "      <td>0.268466</td>\n",
              "      <td>0.248756</td>\n",
              "      <td>0.093220</td>\n",
              "      <td>-0.006855</td>\n",
              "      <td>0.156285</td>\n",
              "      <td>-0.090342</td>\n",
              "      <td>-0.035945</td>\n",
              "      <td>0.047427</td>\n",
              "      <td>-0.028684</td>\n",
              "      <td>-0.114720</td>\n",
              "      <td>-0.041482</td>\n",
              "      <td>0.004449</td>\n",
              "      <td>0.133547</td>\n",
              "      <td>0.019889</td>\n",
              "      <td>0.009372</td>\n",
              "      <td>0.004612</td>\n",
              "    </tr>\n",
              "    <tr>\n",
              "      <th>std</th>\n",
              "      <td>1.836886</td>\n",
              "      <td>1.547729</td>\n",
              "      <td>1.545731</td>\n",
              "      <td>1.405509</td>\n",
              "      <td>1.376862</td>\n",
              "      <td>1.302255</td>\n",
              "      <td>1.263836</td>\n",
              "      <td>1.248944</td>\n",
              "      <td>1.228084</td>\n",
              "      <td>1.134023</td>\n",
              "      <td>1.133392</td>\n",
              "      <td>1.400581</td>\n",
              "      <td>1.152212</td>\n",
              "      <td>1.157260</td>\n",
              "      <td>0.957368</td>\n",
              "      <td>0.933914</td>\n",
              "      <td>1.063965</td>\n",
              "      <td>0.860813</td>\n",
              "      <td>0.818877</td>\n",
              "      <td>0.679558</td>\n",
              "      <td>0.777981</td>\n",
              "      <td>0.642964</td>\n",
              "      <td>0.566075</td>\n",
              "      <td>0.595274</td>\n",
              "      <td>0.436888</td>\n",
              "      <td>0.504402</td>\n",
              "      <td>0.379781</td>\n",
              "      <td>0.293854</td>\n",
              "    </tr>\n",
              "    <tr>\n",
              "      <th>min</th>\n",
              "      <td>-30.552380</td>\n",
              "      <td>-40.978852</td>\n",
              "      <td>-31.103685</td>\n",
              "      <td>-5.172595</td>\n",
              "      <td>-32.092129</td>\n",
              "      <td>-17.574835</td>\n",
              "      <td>-21.922811</td>\n",
              "      <td>-41.484823</td>\n",
              "      <td>-7.175097</td>\n",
              "      <td>-14.166795</td>\n",
              "      <td>-2.985309</td>\n",
              "      <td>-17.631606</td>\n",
              "      <td>-3.808724</td>\n",
              "      <td>-18.822087</td>\n",
              "      <td>-4.152532</td>\n",
              "      <td>-12.227189</td>\n",
              "      <td>-18.587366</td>\n",
              "      <td>-8.061208</td>\n",
              "      <td>-4.932733</td>\n",
              "      <td>-11.748689</td>\n",
              "      <td>-20.262054</td>\n",
              "      <td>-8.593642</td>\n",
              "      <td>-26.751119</td>\n",
              "      <td>-2.761047</td>\n",
              "      <td>-7.495741</td>\n",
              "      <td>-1.338556</td>\n",
              "      <td>-8.260909</td>\n",
              "      <td>-8.478686</td>\n",
              "    </tr>\n",
              "    <tr>\n",
              "      <th>25%</th>\n",
              "      <td>-0.966715</td>\n",
              "      <td>-0.509740</td>\n",
              "      <td>0.240415</td>\n",
              "      <td>-0.708781</td>\n",
              "      <td>-0.826562</td>\n",
              "      <td>-0.640690</td>\n",
              "      <td>-0.594982</td>\n",
              "      <td>-0.154100</td>\n",
              "      <td>-0.547046</td>\n",
              "      <td>-0.556761</td>\n",
              "      <td>-0.380287</td>\n",
              "      <td>-1.417087</td>\n",
              "      <td>-0.514023</td>\n",
              "      <td>-0.257251</td>\n",
              "      <td>-0.463442</td>\n",
              "      <td>-0.493857</td>\n",
              "      <td>-0.341082</td>\n",
              "      <td>-0.565750</td>\n",
              "      <td>-0.526532</td>\n",
              "      <td>-0.164573</td>\n",
              "      <td>-0.238193</td>\n",
              "      <td>-0.537994</td>\n",
              "      <td>-0.177529</td>\n",
              "      <td>-0.329853</td>\n",
              "      <td>-0.130524</td>\n",
              "      <td>-0.331552</td>\n",
              "      <td>-0.063160</td>\n",
              "      <td>-0.007306</td>\n",
              "    </tr>\n",
              "    <tr>\n",
              "      <th>50%</th>\n",
              "      <td>-0.233897</td>\n",
              "      <td>0.110830</td>\n",
              "      <td>0.820204</td>\n",
              "      <td>0.196379</td>\n",
              "      <td>-0.262848</td>\n",
              "      <td>-0.157669</td>\n",
              "      <td>-0.071364</td>\n",
              "      <td>0.045914</td>\n",
              "      <td>0.106080</td>\n",
              "      <td>-0.134393</td>\n",
              "      <td>0.408701</td>\n",
              "      <td>-0.139019</td>\n",
              "      <td>0.189131</td>\n",
              "      <td>0.209982</td>\n",
              "      <td>0.210823</td>\n",
              "      <td>0.061428</td>\n",
              "      <td>0.096741</td>\n",
              "      <td>-0.074771</td>\n",
              "      <td>-0.034615</td>\n",
              "      <td>-0.023653</td>\n",
              "      <td>-0.079680</td>\n",
              "      <td>-0.088472</td>\n",
              "      <td>-0.051045</td>\n",
              "      <td>0.059450</td>\n",
              "      <td>0.175049</td>\n",
              "      <td>-0.066298</td>\n",
              "      <td>0.008831</td>\n",
              "      <td>0.021269</td>\n",
              "    </tr>\n",
              "    <tr>\n",
              "      <th>75%</th>\n",
              "      <td>1.160755</td>\n",
              "      <td>0.753694</td>\n",
              "      <td>1.448847</td>\n",
              "      <td>1.076415</td>\n",
              "      <td>0.302177</td>\n",
              "      <td>0.483348</td>\n",
              "      <td>0.437779</td>\n",
              "      <td>0.310593</td>\n",
              "      <td>0.952948</td>\n",
              "      <td>0.373976</td>\n",
              "      <td>1.219825</td>\n",
              "      <td>0.479832</td>\n",
              "      <td>1.017150</td>\n",
              "      <td>0.856063</td>\n",
              "      <td>0.771756</td>\n",
              "      <td>0.552458</td>\n",
              "      <td>0.588326</td>\n",
              "      <td>0.404220</td>\n",
              "      <td>0.472617</td>\n",
              "      <td>0.167094</td>\n",
              "      <td>0.097274</td>\n",
              "      <td>0.296157</td>\n",
              "      <td>0.076788</td>\n",
              "      <td>0.398972</td>\n",
              "      <td>0.419316</td>\n",
              "      <td>0.298105</td>\n",
              "      <td>0.086082</td>\n",
              "      <td>0.076068</td>\n",
              "    </tr>\n",
              "    <tr>\n",
              "      <th>max</th>\n",
              "      <td>1.685314</td>\n",
              "      <td>16.713389</td>\n",
              "      <td>4.079168</td>\n",
              "      <td>13.143668</td>\n",
              "      <td>24.363532</td>\n",
              "      <td>21.393069</td>\n",
              "      <td>34.303177</td>\n",
              "      <td>20.007208</td>\n",
              "      <td>10.392889</td>\n",
              "      <td>12.701539</td>\n",
              "      <td>11.669205</td>\n",
              "      <td>4.846452</td>\n",
              "      <td>3.904562</td>\n",
              "      <td>7.692209</td>\n",
              "      <td>3.832930</td>\n",
              "      <td>4.816252</td>\n",
              "      <td>9.253526</td>\n",
              "      <td>4.295648</td>\n",
              "      <td>3.623332</td>\n",
              "      <td>17.281859</td>\n",
              "      <td>22.614889</td>\n",
              "      <td>5.805795</td>\n",
              "      <td>17.297845</td>\n",
              "      <td>4.014444</td>\n",
              "      <td>2.732898</td>\n",
              "      <td>3.517346</td>\n",
              "      <td>6.211230</td>\n",
              "      <td>5.678671</td>\n",
              "    </tr>\n",
              "  </tbody>\n",
              "</table>\n",
              "</div>"
            ],
            "text/plain": [
              "                 V1            V2  ...           V27           V28\n",
              "count  30177.000000  30177.000000  ...  30176.000000  30176.000000\n",
              "mean      -0.210587      0.065615  ...      0.009372      0.004612\n",
              "std        1.836886      1.547729  ...      0.379781      0.293854\n",
              "min      -30.552380    -40.978852  ...     -8.260909     -8.478686\n",
              "25%       -0.966715     -0.509740  ...     -0.063160     -0.007306\n",
              "50%       -0.233897      0.110830  ...      0.008831      0.021269\n",
              "75%        1.160755      0.753694  ...      0.086082      0.076068\n",
              "max        1.685314     16.713389  ...      6.211230      5.678671\n",
              "\n",
              "[8 rows x 28 columns]"
            ]
          },
          "metadata": {
            "tags": []
          },
          "execution_count": 31
        }
      ]
    },
    {
      "cell_type": "code",
      "metadata": {
        "id": "2Oie5syY0Rgc",
        "colab_type": "code",
        "colab": {
          "base_uri": "https://localhost:8080/",
          "height": 535
        },
        "outputId": "abf5d941-3d58-45ea-8c79-e2f40c84b8e7"
      },
      "source": [
        "plt.figure(figsize=(12,8))\n",
        "sns.barplot(x=pca_vars, y=X_train[pca_vars].mean(), color='green')\n",
        "plt.xlabel('Column')\n",
        "plt.ylabel('Mean')\n",
        "plt.title('V1-V28 Means')"
      ],
      "execution_count": null,
      "outputs": [
        {
          "output_type": "execute_result",
          "data": {
            "text/plain": [
              "Text(0.5, 1.0, 'V1-V28 Means')"
            ]
          },
          "metadata": {
            "tags": []
          },
          "execution_count": 32
        },
        {
          "output_type": "display_data",
          "data": {
            "image/png": "[encoded data removed]",
            "text/plain": [
              "<Figure size 864x576 with 1 Axes>"
            ]
          },
          "metadata": {
            "tags": [],
            "needs_background": "light"
          }
        }
      ]
    },
    {
      "cell_type": "code",
      "metadata": {
        "id": "dTif16JW0Upm",
        "colab_type": "code",
        "colab": {}
      },
      "source": [
        "#All of V1-V28 have approximately zero mean. Now plot the standard deviations:"
      ],
      "execution_count": null,
      "outputs": []
    },
    {
      "cell_type": "code",
      "metadata": {
        "id": "0VP8IxJR0eKg",
        "colab_type": "code",
        "colab": {
          "base_uri": "https://localhost:8080/",
          "height": 535
        },
        "outputId": "8cd52ddd-cca6-4cf5-cdb6-ac8c064dfa25"
      },
      "source": [
        "plt.figure(figsize=(12,8))\n",
        "sns.barplot(x=pca_vars, y=X_train[pca_vars].std(), color='green')\n",
        "plt.xlabel('Column')\n",
        "plt.ylabel('Mean')\n",
        "plt.title('V1-V28 Means')"
      ],
      "execution_count": null,
      "outputs": [
        {
          "output_type": "execute_result",
          "data": {
            "text/plain": [
              "Text(0.5, 1.0, 'V1-V28 Means')"
            ]
          },
          "metadata": {
            "tags": []
          },
          "execution_count": 33
        },
        {
          "output_type": "display_data",
          "data": {
            "image/png": "[encoded data removed]",
            "text/plain": [
              "<Figure size 864x576 with 1 Axes>"
            ]
          },
          "metadata": {
            "tags": [],
            "needs_background": "light"
          }
        }
      ]
    },
    {
      "cell_type": "code",
      "metadata": {
        "id": "WENdL1p60lwG",
        "colab_type": "code",
        "colab": {
          "base_uri": "https://localhost:8080/",
          "height": 535
        },
        "outputId": "3a9be607-5fb1-4b12-fc83-cd1d3a6dbd49"
      },
      "source": [
        "plt.figure(figsize=(12,8))\n",
        "sns.barplot(x=pca_vars, y=X_train[pca_vars].skew(), color='green')\n",
        "plt.xlabel('Column')\n",
        "plt.ylabel('Mean')\n",
        "plt.title('V1-V28 Means')"
      ],
      "execution_count": null,
      "outputs": [
        {
          "output_type": "execute_result",
          "data": {
            "text/plain": [
              "Text(0.5, 1.0, 'V1-V28 Means')"
            ]
          },
          "metadata": {
            "tags": []
          },
          "execution_count": 34
        },
        {
          "output_type": "display_data",
          "data": {
            "image/png": "[encoded data removed]",
            "text/plain": [
              "<Figure size 864x576 with 1 Axes>"
            ]
          },
          "metadata": {
            "tags": [],
            "needs_background": "light"
          }
        }
      ]
    },
    {
      "cell_type": "code",
      "metadata": {
        "id": "TDEjR5wc0g7-",
        "colab_type": "code",
        "colab": {}
      },
      "source": [
        "#The PCA variables have roughly unit variance, but as low as ~0.3 and as high as ~1.9. Plot the skewnesses next:"
      ],
      "execution_count": null,
      "outputs": []
    },
    {
      "cell_type": "code",
      "metadata": {
        "id": "NeeP---F0n1Z",
        "colab_type": "code",
        "colab": {}
      },
      "source": [
        "#A few of the PCA variables are significantly skewed. Let's plot a histogram of one of the particularly skewed variables, V8, to see the distribution in detail."
      ],
      "execution_count": null,
      "outputs": []
    },
    {
      "cell_type": "code",
      "metadata": {
        "id": "WbHk56wh0r5p",
        "colab_type": "code",
        "colab": {
          "base_uri": "https://localhost:8080/",
          "height": 535
        },
        "outputId": "bcab3e58-c7c3-49f4-9c78-705e7ca42a73"
      },
      "source": [
        "plt.figure(figsize=(12,8))\n",
        "sns.distplot(X_train['V8'], bins=100)\n",
        "plt.ylabel('Count')\n",
        "plt.title('V8')"
      ],
      "execution_count": null,
      "outputs": [
        {
          "output_type": "execute_result",
          "data": {
            "text/plain": [
              "Text(0.5, 1.0, 'V8')"
            ]
          },
          "metadata": {
            "tags": []
          },
          "execution_count": 35
        },
        {
          "output_type": "display_data",
          "data": {
            "image/png": "[encoded data removed]",
            "text/plain": [
              "<Figure size 864x576 with 1 Axes>"
            ]
          },
          "metadata": {
            "tags": [],
            "needs_background": "light"
          }
        }
      ]
    },
    {
      "cell_type": "code",
      "metadata": {
        "id": "MpFBZDhb0tTx",
        "colab_type": "code",
        "colab": {}
      },
      "source": [
        "#boxplot:"
      ],
      "execution_count": null,
      "outputs": []
    },
    {
      "cell_type": "code",
      "metadata": {
        "id": "dCE9ac9s0ydd",
        "colab_type": "code",
        "colab": {
          "base_uri": "https://localhost:8080/",
          "height": 590
        },
        "outputId": "9d458203-a423-45f5-fa3c-e71fe4cc8c6a"
      },
      "source": [
        "plt.figure(figsize=(12,8), dpi=80)\n",
        "sns.boxplot(X_train['V8'])\n",
        "plt.title('V8')"
      ],
      "execution_count": null,
      "outputs": [
        {
          "output_type": "execute_result",
          "data": {
            "text/plain": [
              "Text(0.5, 1.0, 'V8')"
            ]
          },
          "metadata": {
            "tags": []
          },
          "execution_count": 36
        },
        {
          "output_type": "display_data",
          "data": {
            "image/png": "[encoded data removed]",
            "text/plain": [
              "<Figure size 960x640 with 1 Axes>"
            ]
          },
          "metadata": {
            "tags": [],
            "needs_background": "light"
          }
        }
      ]
    },
    {
      "cell_type": "code",
      "metadata": {
        "id": "x1-OVUwn00qx",
        "colab_type": "code",
        "colab": {}
      },
      "source": [
        "#The kurtosis method"
      ],
      "execution_count": null,
      "outputs": []
    },
    {
      "cell_type": "code",
      "metadata": {
        "id": "Lg70MKn00634",
        "colab_type": "code",
        "colab": {
          "base_uri": "https://localhost:8080/",
          "height": 535
        },
        "outputId": "74147f5a-3518-4e25-e5bd-e2ededcd7a2e"
      },
      "source": [
        "plt.figure(figsize=(12,8))\n",
        "plt.yscale('log')\n",
        "sns.barplot(x=pca_vars, y=X_train[pca_vars].kurtosis(), color='green')\n",
        "plt.xlabel('Column')\n",
        "plt.ylabel('Kurtosis')\n",
        "plt.title('V1-V28 Kurtoses')"
      ],
      "execution_count": null,
      "outputs": [
        {
          "output_type": "execute_result",
          "data": {
            "text/plain": [
              "Text(0.5, 1.0, 'V1-V28 Kurtoses')"
            ]
          },
          "metadata": {
            "tags": []
          },
          "execution_count": 37
        },
        {
          "output_type": "display_data",
          "data": {
            "image/png": "[encoded data removed]",
            "text/plain": [
              "<Figure size 864x576 with 1 Axes>"
            ]
          },
          "metadata": {
            "tags": [],
            "needs_background": "light"
          }
        }
      ]
    },
    {
      "cell_type": "code",
      "metadata": {
        "id": "cBVdo0k-09Ib",
        "colab_type": "code",
        "colab": {}
      },
      "source": [
        "#plot the medians:"
      ],
      "execution_count": null,
      "outputs": []
    },
    {
      "cell_type": "code",
      "metadata": {
        "id": "p05B7pAl1CkO",
        "colab_type": "code",
        "colab": {
          "base_uri": "https://localhost:8080/",
          "height": 535
        },
        "outputId": "7f0640c1-263d-494a-8d48-4edcc82ca895"
      },
      "source": [
        "plt.figure(figsize=(12,8))\n",
        "sns.barplot(x=pca_vars, y=X_train[pca_vars].median(), color='green')\n",
        "plt.xlabel('Column')\n",
        "plt.ylabel('Mean')\n",
        "plt.title('V1-V28 Means')\n"
      ],
      "execution_count": null,
      "outputs": [
        {
          "output_type": "execute_result",
          "data": {
            "text/plain": [
              "Text(0.5, 1.0, 'V1-V28 Means')"
            ]
          },
          "metadata": {
            "tags": []
          },
          "execution_count": 38
        },
        {
          "output_type": "display_data",
          "data": {
            "image/png": "[encoded data removed]",
            "text/plain": [
              "<Figure size 864x576 with 1 Axes>"
            ]
          },
          "metadata": {
            "tags": [],
            "needs_background": "light"
          }
        }
      ]
    },
    {
      "cell_type": "code",
      "metadata": {
        "id": "jLgBEzVf1Ey_",
        "colab_type": "code",
        "colab": {}
      },
      "source": [
        " #the interquartile ranges (IQR)*:"
      ],
      "execution_count": null,
      "outputs": []
    },
    {
      "cell_type": "code",
      "metadata": {
        "id": "q4fRlWB61I5l",
        "colab_type": "code",
        "colab": {
          "base_uri": "https://localhost:8080/",
          "height": 535
        },
        "outputId": "fed442b5-6679-4cc5-be5a-fb44f3564ad2"
      },
      "source": [
        "plt.figure(figsize=(12,8))\n",
        "sns.barplot(x=pca_vars, y=X_train[pca_vars].quantile(0.75) - X_train[pca_vars].quantile(0.25), color='green')\n",
        "plt.xlabel('Column')\n",
        "plt.ylabel('IQR')\n",
        "plt.title('V1-V28 IQRs')"
      ],
      "execution_count": null,
      "outputs": [
        {
          "output_type": "execute_result",
          "data": {
            "text/plain": [
              "Text(0.5, 1.0, 'V1-V28 IQRs')"
            ]
          },
          "metadata": {
            "tags": []
          },
          "execution_count": 39
        },
        {
          "output_type": "display_data",
          "data": {
            "image/png": "[encoded data removed]",
            "text/plain": [
              "<Figure size 864x576 with 1 Axes>"
            ]
          },
          "metadata": {
            "tags": [],
            "needs_background": "light"
          }
        }
      ]
    },
    {
      "cell_type": "code",
      "metadata": {
        "id": "tCpv-cd41K68",
        "colab_type": "code",
        "colab": {}
      },
      "source": [
        "#Logistic Regression\n"
      ],
      "execution_count": null,
      "outputs": []
    },
    {
      "cell_type": "code",
      "metadata": {
        "id": "4bm3k2CM1Pyw",
        "colab_type": "code",
        "colab": {
          "base_uri": "https://localhost:8080/",
          "height": 71
        },
        "outputId": "f6f6622a-a954-4916-ceb1-d8a2d65c215f"
      },
      "source": [
        "from sklearn.pipeline import Pipeline\n",
        "from sklearn.preprocessing import StandardScaler\n",
        "from sklearn.linear_model import SGDClassifier"
      ],
      "execution_count": null,
      "outputs": [
        {
          "output_type": "stream",
          "text": [
            "/usr/lib/python3.6/importlib/_bootstrap.py:219: RuntimeWarning: numpy.ufunc size changed, may indicate binary incompatibility. Expected 192 from C header, got 216 from PyObject\n",
            "  return f(*args, **kwds)\n"
          ],
          "name": "stderr"
        }
      ]
    },
    {
      "cell_type": "code",
      "metadata": {
        "id": "6R3oRSc51Sln",
        "colab_type": "code",
        "colab": {}
      },
      "source": [
        "pipeline_sgd = Pipeline([\n",
        "    ('scaler', StandardScaler(copy=False)),\n",
        "    ('model', SGDClassifier(max_iter=1000, tol=1e-3, random_state=1, warm_start=True))\n",
        "])"
      ],
      "execution_count": null,
      "outputs": []
    },
    {
      "cell_type": "code",
      "metadata": {
        "id": "LLAvaOel1dmH",
        "colab_type": "code",
        "colab": {}
      },
      "source": [
        "#one grid for the linear SVC and one for logistic regression:"
      ],
      "execution_count": null,
      "outputs": []
    },
    {
      "cell_type": "code",
      "metadata": {
        "id": "SnoJntZW2kHP",
        "colab_type": "code",
        "colab": {}
      },
      "source": [
        "param_grid_sgd = [{\n",
        "    'model__loss': ['log'],\n",
        "    'model__penalty': ['l1', 'l2'],\n",
        "    'model__alpha': np.logspace(start=-3, stop=3, num=20)\n",
        "}, {\n",
        "    'model__loss': ['hinge'],\n",
        "    'model__alpha': np.logspace(start=-3, stop=3, num=20),\n",
        "    'model__class_weight': [None, 'balanced']\n",
        "}]"
      ],
      "execution_count": null,
      "outputs": []
    },
    {
      "cell_type": "code",
      "metadata": {
        "id": "Z8JFIU-g2l8c",
        "colab_type": "code",
        "colab": {}
      },
      "source": [
        "from sklearn.model_selection import GridSearchCV\n",
        "from sklearn.metrics import make_scorer, matthews_corrcoef"
      ],
      "execution_count": null,
      "outputs": []
    },
    {
      "cell_type": "code",
      "metadata": {
        "id": "wdsgPbqv2rwJ",
        "colab_type": "code",
        "colab": {}
      },
      "source": [
        "MCC_scorer = make_scorer(matthews_corrcoef)\n",
        "grid_sgd = GridSearchCV(estimator=pipeline_sgd, param_grid=param_grid_sgd, scoring=MCC_scorer, n_jobs=-1, pre_dispatch='2*n_jobs', cv=5, verbose=1, return_train_score=False)"
      ],
      "execution_count": null,
      "outputs": []
    },
    {
      "cell_type": "code",
      "metadata": {
        "id": "Qxo0DqxF2tpg",
        "colab_type": "code",
        "colab": {}
      },
      "source": [
        "#Perform the grid search:"
      ],
      "execution_count": null,
      "outputs": []
    },
    {
      "cell_type": "code",
      "metadata": {
        "id": "kPzn1t-V2wmv",
        "colab_type": "code",
        "colab": {
          "base_uri": "https://localhost:8080/",
          "height": 163
        },
        "outputId": "f6a4e850-75ab-451f-d7e9-1135fa6fb415"
      },
      "source": [
        "grid_rf.fit(X_train, y_train)"
      ],
      "execution_count": null,
      "outputs": [
        {
          "output_type": "error",
          "ename": "NameError",
          "evalue": "ignored",
          "traceback": [
            "\u001b[0;31m---------------------------------------------------------------------------\u001b[0m",
            "\u001b[0;31mNameError\u001b[0m                                 Traceback (most recent call last)",
            "\u001b[0;32m<ipython-input-53-52ded35b3002>\u001b[0m in \u001b[0;36m<module>\u001b[0;34m()\u001b[0m\n\u001b[0;32m----> 1\u001b[0;31m \u001b[0mgrid_rf\u001b[0m\u001b[0;34m.\u001b[0m\u001b[0mfit\u001b[0m\u001b[0;34m(\u001b[0m\u001b[0mX_train\u001b[0m\u001b[0;34m,\u001b[0m \u001b[0my_train\u001b[0m\u001b[0;34m)\u001b[0m\u001b[0;34m\u001b[0m\u001b[0;34m\u001b[0m\u001b[0m\n\u001b[0m",
            "\u001b[0;31mNameError\u001b[0m: name 'grid_rf' is not defined"
          ]
        }
      ]
    },
    {
      "cell_type": "code",
      "metadata": {
        "id": "gghbw4L42yml",
        "colab_type": "code",
        "colab": {
          "base_uri": "https://localhost:8080/",
          "height": 445
        },
        "outputId": "4758a375-32a3-49d6-ca64-d09cff636c3e"
      },
      "source": [
        "!pip install -U scikit-learn\n",
        "from sklearn.ensemble import RandomForestClassifier\n",
        "from sklearn.model_selection import GridSearchCV"
      ],
      "execution_count": null,
      "outputs": [
        {
          "output_type": "stream",
          "text": [
            "Collecting scikit-learn\n",
            "\u001b[?25l  Downloading https://files.pythonhosted.org/packages/d9/3a/eb8d7bbe28f4787d140bb9df685b7d5bf6115c0e2a969def4027144e98b6/scikit_learn-0.23.1-cp36-cp36m-manylinux1_x86_64.whl (6.8MB)\n",
            "\u001b[K     |████████████████████████████████| 6.9MB 7.9MB/s \n",
            "\u001b[?25hRequirement already satisfied, skipping upgrade: numpy>=1.13.3 in /usr/local/lib/python3.6/dist-packages (from scikit-learn) (1.18.5)\n",
            "Requirement already satisfied, skipping upgrade: joblib>=0.11 in /usr/local/lib/python3.6/dist-packages (from scikit-learn) (0.15.1)\n",
            "Collecting threadpoolctl>=2.0.0\n",
            "  Downloading https://files.pythonhosted.org/packages/f7/12/ec3f2e203afa394a149911729357aa48affc59c20e2c1c8297a60f33f133/threadpoolctl-2.1.0-py3-none-any.whl\n",
            "Requirement already satisfied, skipping upgrade: scipy>=0.19.1 in /usr/local/lib/python3.6/dist-packages (from scikit-learn) (1.4.1)\n",
            "Installing collected packages: threadpoolctl, scikit-learn\n",
            "  Found existing installation: scikit-learn 0.22.2.post1\n",
            "    Uninstalling scikit-learn-0.22.2.post1:\n",
            "      Successfully uninstalled scikit-learn-0.22.2.post1\n",
            "Successfully installed scikit-learn-0.23.1 threadpoolctl-2.1.0\n"
          ],
          "name": "stdout"
        },
        {
          "output_type": "stream",
          "text": [
            "/usr/local/lib/python3.6/dist-packages/google/colab/_pip.py:87: ResourceWarning: unclosed file <_io.TextIOWrapper name='/usr/local/lib/python3.6/dist-packages/scikit_learn-0.23.1.dist-info/top_level.txt' mode='r' encoding='UTF-8'>\n",
            "  for line in open(toplevel):\n"
          ],
          "name": "stderr"
        },
        {
          "output_type": "display_data",
          "data": {
            "application/vnd.colab-display-data+json": {
              "pip_warning": {
                "packages": [
                  "sklearn"
                ]
              }
            }
          },
          "metadata": {
            "tags": []
          }
        },
        {
          "output_type": "stream",
          "text": [
            "/usr/lib/python3.6/importlib/_bootstrap.py:219: RuntimeWarning: numpy.ufunc size changed, may indicate binary incompatibility. Expected 192 from C header, got 216 from PyObject\n",
            "  return f(*args, **kwds)\n",
            "/usr/lib/python3.6/importlib/_bootstrap.py:219: RuntimeWarning: numpy.ufunc size changed, may indicate binary incompatibility. Expected 192 from C header, got 216 from PyObject\n",
            "  return f(*args, **kwds)\n"
          ],
          "name": "stderr"
        }
      ]
    },
    {
      "cell_type": "code",
      "metadata": {
        "id": "u-Vp67FH4DK_",
        "colab_type": "code",
        "colab": {}
      },
      "source": [
        "pipeline_rf = Pipeline([\n",
        "    ('model', RandomForestClassifier(n_jobs=-1, random_state=1))\n",
        "])"
      ],
      "execution_count": null,
      "outputs": []
    },
    {
      "cell_type": "code",
      "metadata": {
        "id": "-kBEjJ-Y4I04",
        "colab_type": "code",
        "colab": {}
      },
      "source": [
        "param_grid_rf = {'model__n_estimators': [75]}"
      ],
      "execution_count": null,
      "outputs": []
    },
    {
      "cell_type": "code",
      "metadata": {
        "id": "kvbKTKHi6CQq",
        "colab_type": "code",
        "colab": {}
      },
      "source": [
        "grid_rf = GridSearchCV(estimator=pipeline_rf, param_grid=param_grid_rf, scoring=MCC_scorer, n_jobs=-1, pre_dispatch='2*n_jobs', cv=5, verbose=1, return_train_score=True)"
      ],
      "execution_count": null,
      "outputs": []
    },
    {
      "cell_type": "code",
      "metadata": {
        "id": "ZGFJb4iF6GE3",
        "colab_type": "code",
        "colab": {}
      },
      "source": [
        "#Test Set Evaluation of the Best Model\n",
        "from sklearn.metrics import confusion_matrix, classification_report, matthews_corrcoef, cohen_kappa_score, accuracy_score, average_precision_score, roc_auc_score"
      ],
      "execution_count": null,
      "outputs": []
    },
    {
      "cell_type": "code",
      "metadata": {
        "id": "wtwn9u396INx",
        "colab_type": "code",
        "colab": {}
      },
      "source": [
        "def classification_eval(estimator,X_test,y_test):\n",
        "    y_pred=estimator.predict(X_test)\n",
        "    dec = np.int64(np.ceil(np.log10(len(y_test))))\n",
        "    \n",
        "    print(\"Confusion Matrix\")\n",
        "    print(confusion_matrix(y_test,y_pred),'\\n')\n",
        "    \n",
        "    print('Classification report')\n",
        "    print(classification_report(y_test, y_pred, digits=dec))\n",
        "    \n",
        "    print(\"Scalar Metrics\")\n",
        "    format_str = '%%13s = %%.%if' % dec\n",
        "    print(format_str % ('MCC', matthews_corrcoef(y_test, y_pred)))\n",
        "    \n",
        "    if y_test.nunique() <= 2: # Additional metrics for binary classification\n",
        "        try:\n",
        "            y_score = estimator.predict_proba(X_test)[:,1]\n",
        "        except:\n",
        "            y_score = estimator.decision_function(X_test)\n",
        "        print(format_str % ('AUPRC', average_precision_score(y_test, y_score)))\n",
        "        print(format_str % ('AUROC', roc_auc_score(y_test, y_score)))\n",
        "    print(format_str % (\"Cohen's kappa\", cohen_kappa_score(y_test, y_pred)))\n",
        "    print(format_str % ('Accuracy', accuracy_score(y_test, y_pred)))"
      ],
      "execution_count": null,
      "outputs": []
    },
    {
      "cell_type": "code",
      "metadata": {
        "id": "wDvcsOK31LxB",
        "colab_type": "code",
        "colab": {}
      },
      "source": [
        "#pycaret library."
      ],
      "execution_count": null,
      "outputs": []
    },
    {
      "cell_type": "code",
      "metadata": {
        "id": "hrjbsv441PKM",
        "colab_type": "code",
        "colab": {
          "base_uri": "https://localhost:8080/",
          "height": 1000
        },
        "outputId": "c1b18669-9d0a-46eb-e8ee-cea4f0c9dc6d"
      },
      "source": [
        "!pip install pycaret"
      ],
      "execution_count": null,
      "outputs": [
        {
          "output_type": "stream",
          "text": [
            "Requirement already satisfied: pycaret in /usr/local/lib/python3.6/dist-packages (1.0.0)\n",
            "Requirement already satisfied: pyLDAvis in /usr/local/lib/python3.6/dist-packages (from pycaret) (2.1.2)\n",
            "Requirement already satisfied: awscli in /usr/local/lib/python3.6/dist-packages (from pycaret) (1.18.90)\n",
            "Requirement already satisfied: wordcloud in /usr/local/lib/python3.6/dist-packages (from pycaret) (1.5.0)\n",
            "Requirement already satisfied: textblob in /usr/local/lib/python3.6/dist-packages (from pycaret) (0.15.3)\n",
            "Requirement already satisfied: plotly==4.4.1 in /usr/local/lib/python3.6/dist-packages (from pycaret) (4.4.1)\n",
            "Requirement already satisfied: numpy in /usr/local/lib/python3.6/dist-packages (from pycaret) (1.18.5)\n",
            "Requirement already satisfied: joblib in /usr/local/lib/python3.6/dist-packages (from pycaret) (0.15.1)\n",
            "Requirement already satisfied: seaborn in /usr/local/lib/python3.6/dist-packages (from pycaret) (0.10.1)\n",
            "Requirement already satisfied: ipywidgets in /usr/local/lib/python3.6/dist-packages (from pycaret) (7.5.1)\n",
            "Requirement already satisfied: IPython in /usr/local/lib/python3.6/dist-packages (from pycaret) (5.5.0)\n",
            "Requirement already satisfied: pandas in /usr/local/lib/python3.6/dist-packages (from pycaret) (1.0.5)\n",
            "Requirement already satisfied: kmodes==0.10.1 in /usr/local/lib/python3.6/dist-packages (from pycaret) (0.10.1)\n",
            "Requirement already satisfied: yellowbrick==1.0.1 in /usr/local/lib/python3.6/dist-packages (from pycaret) (1.0.1)\n",
            "Requirement already satisfied: pyod in /usr/local/lib/python3.6/dist-packages (from pycaret) (0.8.0)\n",
            "Requirement already satisfied: umap-learn in /usr/local/lib/python3.6/dist-packages (from pycaret) (0.4.4)\n",
            "Requirement already satisfied: nltk in /usr/local/lib/python3.6/dist-packages (from pycaret) (3.2.5)\n",
            "Requirement already satisfied: cufflinks==0.17.0 in /usr/local/lib/python3.6/dist-packages (from pycaret) (0.17.0)\n",
            "Requirement already satisfied: catboost==0.20.2 in /usr/local/lib/python3.6/dist-packages (from pycaret) (0.20.2)\n",
            "Requirement already satisfied: DateTime==4.3 in /usr/local/lib/python3.6/dist-packages (from pycaret) (4.3)\n",
            "Requirement already satisfied: mlxtend in /usr/local/lib/python3.6/dist-packages (from pycaret) (0.14.0)\n",
            "Requirement already satisfied: gensim in /usr/local/lib/python3.6/dist-packages (from pycaret) (3.6.0)\n",
            "Requirement already satisfied: datefinder==0.7.0 in /usr/local/lib/python3.6/dist-packages (from pycaret) (0.7.0)\n",
            "Requirement already satisfied: scikit-learn==0.22 in /usr/local/lib/python3.6/dist-packages (from pycaret) (0.22)\n",
            "Requirement already satisfied: xgboost==0.90 in /usr/local/lib/python3.6/dist-packages (from pycaret) (0.90)\n",
            "Requirement already satisfied: spacy in /usr/local/lib/python3.6/dist-packages (from pycaret) (2.2.4)\n",
            "Requirement already satisfied: matplotlib in /usr/local/lib/python3.6/dist-packages (from pycaret) (3.2.2)\n",
            "Requirement already satisfied: lightgbm==2.3.1 in /usr/local/lib/python3.6/dist-packages (from pycaret) (2.3.1)\n",
            "Requirement already satisfied: pandas-profiling==2.3.0 in /usr/local/lib/python3.6/dist-packages (from pycaret) (2.3.0)\n",
            "Requirement already satisfied: shap==0.32.1 in /usr/local/lib/python3.6/dist-packages (from pycaret) (0.32.1)\n",
            "Requirement already satisfied: wheel>=0.23.0 in /usr/local/lib/python3.6/dist-packages (from pyLDAvis->pycaret) (0.34.2)\n",
            "Requirement already satisfied: future in /usr/local/lib/python3.6/dist-packages (from pyLDAvis->pycaret) (0.16.0)\n",
            "Requirement already satisfied: pytest in /usr/local/lib/python3.6/dist-packages (from pyLDAvis->pycaret) (3.6.4)\n",
            "Requirement already satisfied: scipy>=0.18.0 in /usr/local/lib/python3.6/dist-packages (from pyLDAvis->pycaret) (1.4.1)\n",
            "Requirement already satisfied: funcy in /usr/local/lib/python3.6/dist-packages (from pyLDAvis->pycaret) (1.14)\n",
            "Requirement already satisfied: jinja2>=2.7.2 in /usr/local/lib/python3.6/dist-packages (from pyLDAvis->pycaret) (2.11.2)\n",
            "Requirement already satisfied: numexpr in /usr/local/lib/python3.6/dist-packages (from pyLDAvis->pycaret) (2.7.1)\n",
            "Requirement already satisfied: rsa<=3.5.0,>=3.1.2 in /usr/local/lib/python3.6/dist-packages (from awscli->pycaret) (3.4.2)\n",
            "Requirement already satisfied: s3transfer<0.4.0,>=0.3.0 in /usr/local/lib/python3.6/dist-packages (from awscli->pycaret) (0.3.3)\n",
            "Requirement already satisfied: docutils<0.16,>=0.10 in /usr/local/lib/python3.6/dist-packages (from awscli->pycaret) (0.15.2)\n",
            "Requirement already satisfied: PyYAML<5.4,>=3.10 in /usr/local/lib/python3.6/dist-packages (from awscli->pycaret) (3.13)\n",
            "Requirement already satisfied: colorama<0.4.4,>=0.2.5 in /usr/local/lib/python3.6/dist-packages (from awscli->pycaret) (0.4.3)\n",
            "Requirement already satisfied: botocore==1.17.13 in /usr/local/lib/python3.6/dist-packages (from awscli->pycaret) (1.17.13)\n",
            "Requirement already satisfied: pillow in /usr/local/lib/python3.6/dist-packages (from wordcloud->pycaret) (7.0.0)\n",
            "Requirement already satisfied: six in /usr/local/lib/python3.6/dist-packages (from plotly==4.4.1->pycaret) (1.12.0)\n",
            "Requirement already satisfied: retrying>=1.3.3 in /usr/local/lib/python3.6/dist-packages (from plotly==4.4.1->pycaret) (1.3.3)\n",
            "Requirement already satisfied: widgetsnbextension~=3.5.0 in /usr/local/lib/python3.6/dist-packages (from ipywidgets->pycaret) (3.5.1)\n",
            "Requirement already satisfied: nbformat>=4.2.0 in /usr/local/lib/python3.6/dist-packages (from ipywidgets->pycaret) (5.0.7)\n",
            "Requirement already satisfied: ipykernel>=4.5.1 in /usr/local/lib/python3.6/dist-packages (from ipywidgets->pycaret) (4.10.1)\n",
            "Requirement already satisfied: traitlets>=4.3.1 in /usr/local/lib/python3.6/dist-packages (from ipywidgets->pycaret) (4.3.3)\n",
            "Requirement already satisfied: pexpect; sys_platform != \"win32\" in /usr/local/lib/python3.6/dist-packages (from IPython->pycaret) (4.8.0)\n",
            "Requirement already satisfied: pickleshare in /usr/local/lib/python3.6/dist-packages (from IPython->pycaret) (0.7.5)\n",
            "Requirement already satisfied: decorator in /usr/local/lib/python3.6/dist-packages (from IPython->pycaret) (4.4.2)\n",
            "Requirement already satisfied: setuptools>=18.5 in /usr/local/lib/python3.6/dist-packages (from IPython->pycaret) (47.3.1)\n",
            "Requirement already satisfied: prompt-toolkit<2.0.0,>=1.0.4 in /usr/local/lib/python3.6/dist-packages (from IPython->pycaret) (1.0.18)\n",
            "Requirement already satisfied: simplegeneric>0.8 in /usr/local/lib/python3.6/dist-packages (from IPython->pycaret) (0.8.1)\n",
            "Requirement already satisfied: pygments in /usr/local/lib/python3.6/dist-packages (from IPython->pycaret) (2.1.3)\n",
            "Requirement already satisfied: python-dateutil>=2.6.1 in /usr/local/lib/python3.6/dist-packages (from pandas->pycaret) (2.8.1)\n",
            "Requirement already satisfied: pytz>=2017.2 in /usr/local/lib/python3.6/dist-packages (from pandas->pycaret) (2018.9)\n",
            "Requirement already satisfied: cycler>=0.10.0 in /usr/local/lib/python3.6/dist-packages (from yellowbrick==1.0.1->pycaret) (0.10.0)\n",
            "Requirement already satisfied: numba>=0.35 in /usr/local/lib/python3.6/dist-packages (from pyod->pycaret) (0.48.0)\n",
            "Requirement already satisfied: suod in /usr/local/lib/python3.6/dist-packages (from pyod->pycaret) (0.0.4)\n",
            "Requirement already satisfied: combo in /usr/local/lib/python3.6/dist-packages (from pyod->pycaret) (0.1.0)\n",
            "Requirement already satisfied: tbb in /usr/local/lib/python3.6/dist-packages (from umap-learn->pycaret) (2020.0.133)\n",
            "Requirement already satisfied: chart-studio>=1.0.0 in /usr/local/lib/python3.6/dist-packages (from cufflinks==0.17.0->pycaret) (1.1.0)\n",
            "Requirement already satisfied: colorlover>=0.2.1 in /usr/local/lib/python3.6/dist-packages (from cufflinks==0.17.0->pycaret) (0.3.0)\n",
            "Requirement already satisfied: graphviz in /usr/local/lib/python3.6/dist-packages (from catboost==0.20.2->pycaret) (0.10.1)\n",
            "Requirement already satisfied: zope.interface in /usr/local/lib/python3.6/dist-packages (from DateTime==4.3->pycaret) (5.1.0)\n",
            "Requirement already satisfied: smart-open>=1.2.1 in /usr/local/lib/python3.6/dist-packages (from gensim->pycaret) (2.0.0)\n",
            "Requirement already satisfied: regex>=2017.02.08 in /usr/local/lib/python3.6/dist-packages (from datefinder==0.7.0->pycaret) (2019.12.20)\n",
            "Requirement already satisfied: srsly<1.1.0,>=1.0.2 in /usr/local/lib/python3.6/dist-packages (from spacy->pycaret) (1.0.2)\n",
            "Requirement already satisfied: catalogue<1.1.0,>=0.0.7 in /usr/local/lib/python3.6/dist-packages (from spacy->pycaret) (1.0.0)\n",
            "Requirement already satisfied: murmurhash<1.1.0,>=0.28.0 in /usr/local/lib/python3.6/dist-packages (from spacy->pycaret) (1.0.2)\n",
            "Requirement already satisfied: blis<0.5.0,>=0.4.0 in /usr/local/lib/python3.6/dist-packages (from spacy->pycaret) (0.4.1)\n",
            "Requirement already satisfied: preshed<3.1.0,>=3.0.2 in /usr/local/lib/python3.6/dist-packages (from spacy->pycaret) (3.0.2)\n",
            "Requirement already satisfied: wasabi<1.1.0,>=0.4.0 in /usr/local/lib/python3.6/dist-packages (from spacy->pycaret) (0.7.0)\n",
            "Requirement already satisfied: requests<3.0.0,>=2.13.0 in /usr/local/lib/python3.6/dist-packages (from spacy->pycaret) (2.23.0)\n",
            "Requirement already satisfied: tqdm<5.0.0,>=4.38.0 in /usr/local/lib/python3.6/dist-packages (from spacy->pycaret) (4.41.1)\n",
            "Requirement already satisfied: thinc==7.4.0 in /usr/local/lib/python3.6/dist-packages (from spacy->pycaret) (7.4.0)\n",
            "Requirement already satisfied: plac<1.2.0,>=0.9.6 in /usr/local/lib/python3.6/dist-packages (from spacy->pycaret) (1.1.3)\n",
            "Requirement already satisfied: cymem<2.1.0,>=2.0.2 in /usr/local/lib/python3.6/dist-packages (from spacy->pycaret) (2.0.3)\n",
            "Requirement already satisfied: kiwisolver>=1.0.1 in /usr/local/lib/python3.6/dist-packages (from matplotlib->pycaret) (1.2.0)\n",
            "Requirement already satisfied: pyparsing!=2.0.4,!=2.1.2,!=2.1.6,>=2.0.1 in /usr/local/lib/python3.6/dist-packages (from matplotlib->pycaret) (2.4.7)\n",
            "Requirement already satisfied: htmlmin>=0.1.12 in /usr/local/lib/python3.6/dist-packages (from pandas-profiling==2.3.0->pycaret) (0.1.12)\n",
            "Requirement already satisfied: astropy in /usr/local/lib/python3.6/dist-packages (from pandas-profiling==2.3.0->pycaret) (4.0.1.post1)\n",
            "Requirement already satisfied: missingno>=0.4.2 in /usr/local/lib/python3.6/dist-packages (from pandas-profiling==2.3.0->pycaret) (0.4.2)\n",
            "Requirement already satisfied: confuse>=1.0.0 in /usr/local/lib/python3.6/dist-packages (from pandas-profiling==2.3.0->pycaret) (1.3.0)\n",
            "Requirement already satisfied: phik>=0.9.8 in /usr/local/lib/python3.6/dist-packages (from pandas-profiling==2.3.0->pycaret) (0.10.0)\n",
            "Requirement already satisfied: pluggy<0.8,>=0.5 in /usr/local/lib/python3.6/dist-packages (from pytest->pyLDAvis->pycaret) (0.7.1)\n",
            "Requirement already satisfied: more-itertools>=4.0.0 in /usr/local/lib/python3.6/dist-packages (from pytest->pyLDAvis->pycaret) (8.4.0)\n",
            "Requirement already satisfied: atomicwrites>=1.0 in /usr/local/lib/python3.6/dist-packages (from pytest->pyLDAvis->pycaret) (1.4.0)\n",
            "Requirement already satisfied: attrs>=17.4.0 in /usr/local/lib/python3.6/dist-packages (from pytest->pyLDAvis->pycaret) (19.3.0)\n",
            "Requirement already satisfied: py>=1.5.0 in /usr/local/lib/python3.6/dist-packages (from pytest->pyLDAvis->pycaret) (1.8.2)\n",
            "Requirement already satisfied: MarkupSafe>=0.23 in /usr/local/lib/python3.6/dist-packages (from jinja2>=2.7.2->pyLDAvis->pycaret) (1.1.1)\n",
            "Requirement already satisfied: pyasn1>=0.1.3 in /usr/local/lib/python3.6/dist-packages (from rsa<=3.5.0,>=3.1.2->awscli->pycaret) (0.4.8)\n",
            "Requirement already satisfied: urllib3<1.26,>=1.20; python_version != \"3.4\" in /usr/local/lib/python3.6/dist-packages (from botocore==1.17.13->awscli->pycaret) (1.24.3)\n",
            "Requirement already satisfied: jmespath<1.0.0,>=0.7.1 in /usr/local/lib/python3.6/dist-packages (from botocore==1.17.13->awscli->pycaret) (0.10.0)\n",
            "Requirement already satisfied: notebook>=4.4.1 in /usr/local/lib/python3.6/dist-packages (from widgetsnbextension~=3.5.0->ipywidgets->pycaret) (5.2.2)\n",
            "Requirement already satisfied: ipython-genutils in /usr/local/lib/python3.6/dist-packages (from nbformat>=4.2.0->ipywidgets->pycaret) (0.2.0)\n",
            "Requirement already satisfied: jsonschema!=2.5.0,>=2.4 in /usr/local/lib/python3.6/dist-packages (from nbformat>=4.2.0->ipywidgets->pycaret) (2.6.0)\n",
            "Requirement already satisfied: jupyter-core in /usr/local/lib/python3.6/dist-packages (from nbformat>=4.2.0->ipywidgets->pycaret) (4.6.3)\n",
            "Requirement already satisfied: jupyter-client in /usr/local/lib/python3.6/dist-packages (from ipykernel>=4.5.1->ipywidgets->pycaret) (5.3.4)\n",
            "Requirement already satisfied: tornado>=4.0 in /usr/local/lib/python3.6/dist-packages (from ipykernel>=4.5.1->ipywidgets->pycaret) (4.5.3)\n",
            "Requirement already satisfied: ptyprocess>=0.5 in /usr/local/lib/python3.6/dist-packages (from pexpect; sys_platform != \"win32\"->IPython->pycaret) (0.6.0)\n",
            "Requirement already satisfied: wcwidth in /usr/local/lib/python3.6/dist-packages (from prompt-toolkit<2.0.0,>=1.0.4->IPython->pycaret) (0.2.5)\n",
            "Requirement already satisfied: llvmlite<0.32.0,>=0.31.0dev0 in /usr/local/lib/python3.6/dist-packages (from numba>=0.35->pyod->pycaret) (0.31.0)\n",
            "Requirement already satisfied: boto in /usr/local/lib/python3.6/dist-packages (from smart-open>=1.2.1->gensim->pycaret) (2.49.0)\n",
            "Requirement already satisfied: boto3 in /usr/local/lib/python3.6/dist-packages (from smart-open>=1.2.1->gensim->pycaret) (1.14.9)\n",
            "Requirement already satisfied: importlib-metadata>=0.20; python_version < \"3.8\" in /usr/local/lib/python3.6/dist-packages (from catalogue<1.1.0,>=0.0.7->spacy->pycaret) (1.6.1)\n",
            "Requirement already satisfied: idna<3,>=2.5 in /usr/local/lib/python3.6/dist-packages (from requests<3.0.0,>=2.13.0->spacy->pycaret) (2.9)\n",
            "Requirement already satisfied: certifi>=2017.4.17 in /usr/local/lib/python3.6/dist-packages (from requests<3.0.0,>=2.13.0->spacy->pycaret) (2020.6.20)\n",
            "Requirement already satisfied: chardet<4,>=3.0.2 in /usr/local/lib/python3.6/dist-packages (from requests<3.0.0,>=2.13.0->spacy->pycaret) (3.0.4)\n",
            "Requirement already satisfied: nbconvert in /usr/local/lib/python3.6/dist-packages (from notebook>=4.4.1->widgetsnbextension~=3.5.0->ipywidgets->pycaret) (5.6.1)\n",
            "Requirement already satisfied: terminado>=0.3.3; sys_platform != \"win32\" in /usr/local/lib/python3.6/dist-packages (from notebook>=4.4.1->widgetsnbextension~=3.5.0->ipywidgets->pycaret) (0.8.3)\n",
            "Requirement already satisfied: pyzmq>=13 in /usr/local/lib/python3.6/dist-packages (from jupyter-client->ipykernel>=4.5.1->ipywidgets->pycaret) (19.0.1)\n",
            "Requirement already satisfied: zipp>=0.5 in /usr/local/lib/python3.6/dist-packages (from importlib-metadata>=0.20; python_version < \"3.8\"->catalogue<1.1.0,>=0.0.7->spacy->pycaret) (3.1.0)\n",
            "Requirement already satisfied: testpath in /usr/local/lib/python3.6/dist-packages (from nbconvert->notebook>=4.4.1->widgetsnbextension~=3.5.0->ipywidgets->pycaret) (0.4.4)\n",
            "Requirement already satisfied: defusedxml in /usr/local/lib/python3.6/dist-packages (from nbconvert->notebook>=4.4.1->widgetsnbextension~=3.5.0->ipywidgets->pycaret) (0.6.0)\n",
            "Requirement already satisfied: bleach in /usr/local/lib/python3.6/dist-packages (from nbconvert->notebook>=4.4.1->widgetsnbextension~=3.5.0->ipywidgets->pycaret) (3.1.5)\n",
            "Requirement already satisfied: pandocfilters>=1.4.1 in /usr/local/lib/python3.6/dist-packages (from nbconvert->notebook>=4.4.1->widgetsnbextension~=3.5.0->ipywidgets->pycaret) (1.4.2)\n",
            "Requirement already satisfied: mistune<2,>=0.8.1 in /usr/local/lib/python3.6/dist-packages (from nbconvert->notebook>=4.4.1->widgetsnbextension~=3.5.0->ipywidgets->pycaret) (0.8.4)\n",
            "Requirement already satisfied: entrypoints>=0.2.2 in /usr/local/lib/python3.6/dist-packages (from nbconvert->notebook>=4.4.1->widgetsnbextension~=3.5.0->ipywidgets->pycaret) (0.3)\n",
            "Requirement already satisfied: packaging in /usr/local/lib/python3.6/dist-packages (from bleach->nbconvert->notebook>=4.4.1->widgetsnbextension~=3.5.0->ipywidgets->pycaret) (20.4)\n",
            "Requirement already satisfied: webencodings in /usr/local/lib/python3.6/dist-packages (from bleach->nbconvert->notebook>=4.4.1->widgetsnbextension~=3.5.0->ipywidgets->pycaret) (0.5.1)\n"
          ],
          "name": "stdout"
        }
      ]
    },
    {
      "cell_type": "code",
      "metadata": {
        "id": "VnvM2qU3-qgF",
        "colab_type": "code",
        "colab": {}
      },
      "source": [
        "from pycaret.classification import *"
      ],
      "execution_count": null,
      "outputs": []
    },
    {
      "cell_type": "code",
      "metadata": {
        "id": "P1tQjB09Aq_C",
        "colab_type": "code",
        "colab": {
          "base_uri": "https://localhost:8080/",
          "height": 163
        },
        "outputId": "7df8f8fb-865f-4a6d-b23c-9375ec60ae8a"
      },
      "source": [
        "clf=setup(transactions,target=\"Class\")"
      ],
      "execution_count": null,
      "outputs": [
        {
          "output_type": "error",
          "ename": "NameError",
          "evalue": "ignored",
          "traceback": [
            "\u001b[0;31m---------------------------------------------------------------------------\u001b[0m",
            "\u001b[0;31mNameError\u001b[0m                                 Traceback (most recent call last)",
            "\u001b[0;32m<ipython-input-5-212a915ed759>\u001b[0m in \u001b[0;36m<module>\u001b[0;34m()\u001b[0m\n\u001b[0;32m----> 1\u001b[0;31m \u001b[0mclf\u001b[0m\u001b[0;34m=\u001b[0m\u001b[0msetup\u001b[0m\u001b[0;34m(\u001b[0m\u001b[0mtransactions\u001b[0m\u001b[0;34m,\u001b[0m\u001b[0mtarget\u001b[0m\u001b[0;34m=\u001b[0m\u001b[0;34m\"Class\"\u001b[0m\u001b[0;34m)\u001b[0m\u001b[0;34m\u001b[0m\u001b[0;34m\u001b[0m\u001b[0m\n\u001b[0m",
            "\u001b[0;31mNameError\u001b[0m: name 'transactions' is not defined"
          ]
        }
      ]
    },
    {
      "cell_type": "code",
      "metadata": {
        "id": "vWx8iQVrAvfS",
        "colab_type": "code",
        "colab": {
          "base_uri": "https://localhost:8080/",
          "height": 547
        },
        "outputId": "e0a562b2-2a33-401c-d2b4-7d5b6a22f728"
      },
      "source": [
        "!pip install -U scikit-learn scipy statsmodels"
      ],
      "execution_count": null,
      "outputs": [
        {
          "output_type": "stream",
          "text": [
            "Collecting scikit-learn\n",
            "  Using cached https://files.pythonhosted.org/packages/d9/3a/eb8d7bbe28f4787d140bb9df685b7d5bf6115c0e2a969def4027144e98b6/scikit_learn-0.23.1-cp36-cp36m-manylinux1_x86_64.whl\n",
            "Collecting scipy\n",
            "\u001b[?25l  Downloading https://files.pythonhosted.org/packages/06/20/d4410683e4d416a11ebc60138f6d925f571ffcfcc3794baf78fff982c98d/scipy-1.5.0-cp36-cp36m-manylinux1_x86_64.whl (25.9MB)\n",
            "\u001b[K     |████████████████████████████████| 25.9MB 1.3MB/s \n",
            "\u001b[?25hCollecting statsmodels\n",
            "\u001b[?25l  Downloading https://files.pythonhosted.org/packages/cb/83/540fd83238a18abe6c2d280fa8e489ac5fcefa1f370f0ca1acd16ae1b860/statsmodels-0.11.1-cp36-cp36m-manylinux1_x86_64.whl (8.7MB)\n",
            "\u001b[K     |████████████████████████████████| 8.7MB 55.3MB/s \n",
            "\u001b[?25hRequirement already satisfied, skipping upgrade: joblib>=0.11 in /usr/local/lib/python3.6/dist-packages (from scikit-learn) (0.15.1)\n",
            "Requirement already satisfied, skipping upgrade: threadpoolctl>=2.0.0 in /usr/local/lib/python3.6/dist-packages (from scikit-learn) (2.1.0)\n",
            "Requirement already satisfied, skipping upgrade: numpy>=1.13.3 in /usr/local/lib/python3.6/dist-packages (from scikit-learn) (1.18.5)\n",
            "Requirement already satisfied, skipping upgrade: patsy>=0.5 in /usr/local/lib/python3.6/dist-packages (from statsmodels) (0.5.1)\n",
            "Requirement already satisfied, skipping upgrade: pandas>=0.21 in /usr/local/lib/python3.6/dist-packages (from statsmodels) (1.0.5)\n",
            "Requirement already satisfied, skipping upgrade: six in /usr/local/lib/python3.6/dist-packages (from patsy>=0.5->statsmodels) (1.12.0)\n",
            "Requirement already satisfied, skipping upgrade: python-dateutil>=2.6.1 in /usr/local/lib/python3.6/dist-packages (from pandas>=0.21->statsmodels) (2.8.1)\n",
            "Requirement already satisfied, skipping upgrade: pytz>=2017.2 in /usr/local/lib/python3.6/dist-packages (from pandas>=0.21->statsmodels) (2018.9)\n",
            "\u001b[31mERROR: tensorflow 2.2.0 has requirement scipy==1.4.1; python_version >= \"3\", but you'll have scipy 1.5.0 which is incompatible.\u001b[0m\n",
            "\u001b[31mERROR: pycaret 1.0.0 has requirement scikit-learn==0.22, but you'll have scikit-learn 0.23.1 which is incompatible.\u001b[0m\n",
            "\u001b[31mERROR: albumentations 0.1.12 has requirement imgaug<0.2.7,>=0.2.5, but you'll have imgaug 0.2.9 which is incompatible.\u001b[0m\n",
            "Installing collected packages: scipy, scikit-learn, statsmodels\n",
            "  Found existing installation: scipy 1.4.1\n",
            "    Uninstalling scipy-1.4.1:\n",
            "      Successfully uninstalled scipy-1.4.1\n",
            "  Found existing installation: scikit-learn 0.22\n",
            "    Uninstalling scikit-learn-0.22:\n",
            "      Successfully uninstalled scikit-learn-0.22\n",
            "  Found existing installation: statsmodels 0.10.2\n",
            "    Uninstalling statsmodels-0.10.2:\n",
            "      Successfully uninstalled statsmodels-0.10.2\n",
            "Successfully installed scikit-learn-0.23.1 scipy-1.5.0 statsmodels-0.11.1\n"
          ],
          "name": "stdout"
        }
      ]
    },
    {
      "cell_type": "code",
      "metadata": {
        "id": "6qHwONtqBYx8",
        "colab_type": "code",
        "colab": {}
      },
      "source": [
        "from scipy.special import logsumexp"
      ],
      "execution_count": null,
      "outputs": []
    },
    {
      "cell_type": "code",
      "metadata": {
        "id": "0cE-8Sb4CBOx",
        "colab_type": "code",
        "colab": {
          "base_uri": "https://localhost:8080/",
          "height": 488,
          "referenced_widgets": [
            "137614dcdc5044ccb002efb78c2d9220",
            "34231c3154f9439484bbd268ba554b01",
            "dd681ff054ee4f399aec84e7d8dbe4d7"
          ]
        },
        "outputId": "b2384804-4542-40fb-bd4b-fb74b0fd35cd"
      },
      "source": [
        "et=create_model(\"et\")"
      ],
      "execution_count": null,
      "outputs": [
        {
          "output_type": "display_data",
          "data": {
            "application/vnd.jupyter.widget-view+json": {
              "model_id": "137614dcdc5044ccb002efb78c2d9220",
              "version_minor": 0,
              "version_major": 2
            },
            "text/plain": [
              "IntProgress(value=0, description='Processing: ', max=14)"
            ]
          },
          "metadata": {
            "tags": []
          }
        },
        {
          "output_type": "display_data",
          "data": {
            "text/html": [
              "<div>\n",
              "<style scoped>\n",
              "    .dataframe tbody tr th:only-of-type {\n",
              "        vertical-align: middle;\n",
              "    }\n",
              "\n",
              "    .dataframe tbody tr th {\n",
              "        vertical-align: top;\n",
              "    }\n",
              "\n",
              "    .dataframe thead th {\n",
              "        text-align: right;\n",
              "    }\n",
              "</style>\n",
              "<table border=\"1\" class=\"dataframe\">\n",
              "  <thead>\n",
              "    <tr style=\"text-align: right;\">\n",
              "      <th></th>\n",
              "      <th></th>\n",
              "      <th></th>\n",
              "    </tr>\n",
              "    <tr>\n",
              "      <th></th>\n",
              "      <th></th>\n",
              "      <th></th>\n",
              "    </tr>\n",
              "  </thead>\n",
              "  <tbody>\n",
              "    <tr>\n",
              "      <th>Initiated</th>\n",
              "      <td>. . . . . . . . . . . . . . . . . .</td>\n",
              "      <td>06:52:32</td>\n",
              "    </tr>\n",
              "    <tr>\n",
              "      <th>Status</th>\n",
              "      <td>. . . . . . . . . . . . . . . . . .</td>\n",
              "      <td>Loading Dependencies</td>\n",
              "    </tr>\n",
              "    <tr>\n",
              "      <th>ETC</th>\n",
              "      <td>. . . . . . . . . . . . . . . . . .</td>\n",
              "      <td>Calculating ETC</td>\n",
              "    </tr>\n",
              "  </tbody>\n",
              "</table>\n",
              "</div>"
            ],
            "text/plain": [
              "                                                                    \n",
              "                                                                    \n",
              "Initiated  . . . . . . . . . . . . . . . . . .              06:52:32\n",
              "Status     . . . . . . . . . . . . . . . . . .  Loading Dependencies\n",
              "ETC        . . . . . . . . . . . . . . . . . .       Calculating ETC"
            ]
          },
          "metadata": {
            "tags": []
          }
        },
        {
          "output_type": "display_data",
          "data": {
            "text/html": [
              "<div>\n",
              "<style scoped>\n",
              "    .dataframe tbody tr th:only-of-type {\n",
              "        vertical-align: middle;\n",
              "    }\n",
              "\n",
              "    .dataframe tbody tr th {\n",
              "        vertical-align: top;\n",
              "    }\n",
              "\n",
              "    .dataframe thead th {\n",
              "        text-align: right;\n",
              "    }\n",
              "</style>\n",
              "<table border=\"1\" class=\"dataframe\">\n",
              "  <thead>\n",
              "    <tr style=\"text-align: right;\">\n",
              "      <th></th>\n",
              "      <th>Accuracy</th>\n",
              "      <th>AUC</th>\n",
              "      <th>Recall</th>\n",
              "      <th>Prec.</th>\n",
              "      <th>F1</th>\n",
              "      <th>Kappa</th>\n",
              "    </tr>\n",
              "  </thead>\n",
              "  <tbody>\n",
              "  </tbody>\n",
              "</table>\n",
              "</div>"
            ],
            "text/plain": [
              "Empty DataFrame\n",
              "Columns: [Accuracy, AUC, Recall, Prec., F1, Kappa]\n",
              "Index: []"
            ]
          },
          "metadata": {
            "tags": []
          }
        },
        {
          "output_type": "error",
          "ename": "NameError",
          "evalue": "ignored",
          "traceback": [
            "\u001b[0;31m---------------------------------------------------------------------------\u001b[0m",
            "\u001b[0;31mNameError\u001b[0m                                 Traceback (most recent call last)",
            "\u001b[0;32m<ipython-input-8-8f65b8875fa9>\u001b[0m in \u001b[0;36m<module>\u001b[0;34m()\u001b[0m\n\u001b[0;32m----> 1\u001b[0;31m \u001b[0met\u001b[0m\u001b[0;34m=\u001b[0m\u001b[0mcreate_model\u001b[0m\u001b[0;34m(\u001b[0m\u001b[0;34m\"et\"\u001b[0m\u001b[0;34m)\u001b[0m\u001b[0;34m\u001b[0m\u001b[0;34m\u001b[0m\u001b[0m\n\u001b[0m",
            "\u001b[0;32m/usr/local/lib/python3.6/dist-packages/pycaret/classification.py\u001b[0m in \u001b[0;36mcreate_model\u001b[0;34m(estimator, ensemble, method, fold, round, verbose)\u001b[0m\n\u001b[1;32m   1716\u001b[0m \u001b[0;34m\u001b[0m\u001b[0m\n\u001b[1;32m   1717\u001b[0m     \u001b[0;31m#Storing X_train and y_train in data_X and data_y parameter\u001b[0m\u001b[0;34m\u001b[0m\u001b[0;34m\u001b[0m\u001b[0;34m\u001b[0m\u001b[0m\n\u001b[0;32m-> 1718\u001b[0;31m     \u001b[0mdata_X\u001b[0m \u001b[0;34m=\u001b[0m \u001b[0mX_train\u001b[0m\u001b[0;34m.\u001b[0m\u001b[0mcopy\u001b[0m\u001b[0;34m(\u001b[0m\u001b[0;34m)\u001b[0m\u001b[0;34m\u001b[0m\u001b[0;34m\u001b[0m\u001b[0m\n\u001b[0m\u001b[1;32m   1719\u001b[0m     \u001b[0mdata_y\u001b[0m \u001b[0;34m=\u001b[0m \u001b[0my_train\u001b[0m\u001b[0;34m.\u001b[0m\u001b[0mcopy\u001b[0m\u001b[0;34m(\u001b[0m\u001b[0;34m)\u001b[0m\u001b[0;34m\u001b[0m\u001b[0;34m\u001b[0m\u001b[0m\n\u001b[1;32m   1720\u001b[0m \u001b[0;34m\u001b[0m\u001b[0m\n",
            "\u001b[0;31mNameError\u001b[0m: name 'X_train' is not defined"
          ]
        }
      ]
    },
    {
      "cell_type": "code",
      "metadata": {
        "id": "jNUFJnU5CzYV",
        "colab_type": "code",
        "colab": {
          "base_uri": "https://localhost:8080/",
          "height": 34
        },
        "outputId": "6c7b8433-0887-4210-be32-6853ac94ca6b"
      },
      "source": [
        "print(et)"
      ],
      "execution_count": null,
      "outputs": [
        {
          "output_type": "stream",
          "text": [
            "ExtraTreesClassifier(random_state=1667)\n"
          ],
          "name": "stdout"
        }
      ]
    },
    {
      "cell_type": "code",
      "metadata": {
        "id": "_vjX_IzmDD34",
        "colab_type": "code",
        "colab": {
          "base_uri": "https://localhost:8080/",
          "height": 376,
          "referenced_widgets": [
            "24f0ff751dce48559ae1f046a1fd0944"
          ]
        },
        "outputId": "3c8793ac-6d81-491a-dc0a-16bcdeda124a"
      },
      "source": [
        "#ROC Curve:\n",
        "plot_model(et)"
      ],
      "execution_count": null,
      "outputs": [
        {
          "output_type": "display_data",
          "data": {
            "image/png": "[encoded data removed]",
            "text/plain": [
              "<Figure size 576x396 with 1 Axes>"
            ]
          },
          "metadata": {
            "tags": []
          }
        }
      ]
    },
    {
      "cell_type": "code",
      "metadata": {
        "id": "5hoUV3NODLkK",
        "colab_type": "code",
        "colab": {
          "base_uri": "https://localhost:8080/",
          "height": 349,
          "referenced_widgets": [
            "92f3d7432c5647f7b551c672c03074bc"
          ]
        },
        "outputId": "78f8228c-533b-4554-80eb-d11ac74e1f3f"
      },
      "source": [
        "plot_model(et, plot='feature')"
      ],
      "execution_count": null,
      "outputs": [
        {
          "output_type": "display_data",
          "data": {
            "image/png": "[encoded data removed]",
            "text/plain": [
              "<Figure size 576x360 with 1 Axes>"
            ]
          },
          "metadata": {
            "tags": []
          }
        }
      ]
    },
    {
      "cell_type": "code",
      "metadata": {
        "id": "d51lmBn8DdLG",
        "colab_type": "code",
        "colab": {
          "base_uri": "https://localhost:8080/",
          "height": 376,
          "referenced_widgets": [
            "5ab7c45debde4022bb740f28f3e14a91"
          ]
        },
        "outputId": "348040c9-8cd0-49d1-9e63-5e9f1bd6d4f6"
      },
      "source": [
        "#Precision Curve\n",
        "plot_model(et, plot = 'pr')"
      ],
      "execution_count": null,
      "outputs": [
        {
          "output_type": "display_data",
          "data": {
            "image/png": "[encoded data removed]",
            "text/plain": [
              "<Figure size 576x396 with 1 Axes>"
            ]
          },
          "metadata": {
            "tags": []
          }
        }
      ]
    },
    {
      "cell_type": "code",
      "metadata": {
        "id": "2spQZZ2-Dh8l",
        "colab_type": "code",
        "colab": {
          "base_uri": "https://localhost:8080/",
          "height": 387,
          "referenced_widgets": [
            "0ac2e87c3ff1404aada2ee2e319c54d3"
          ]
        },
        "outputId": "4638102d-d341-41b8-f26d-a2a13267219f"
      },
      "source": [
        "#Confusion Matrix\n",
        "plot_model(et, plot = 'confusion_matrix')"
      ],
      "execution_count": null,
      "outputs": [
        {
          "output_type": "display_data",
          "data": {
            "image/png": "[encoded data removed]",
            "text/plain": [
              "<Figure size 576x396 with 1 Axes>"
            ]
          },
          "metadata": {
            "tags": []
          }
        }
      ]
    },
    {
      "cell_type": "code",
      "metadata": {
        "id": "tG3Gxek3Dmbo",
        "colab_type": "code",
        "colab": {
          "base_uri": "https://localhost:8080/",
          "height": 140,
          "referenced_widgets": [
            "9589c9d9c3c44664a6f8988599c3f6e5",
            "63aff563ff8f4d55b9b0615a2159c433",
            "fc85a114d58945fe83c0bc028abb1e6c",
            "b06638befd8848f1a54a0b1addcb3413",
            "d4900cefb39f44f29845f48884c43dd5",
            "2996a6af023249e288c904d0dbd6a4ce",
            "32e4249930234bfe99fdbe50154358eb",
            "60a92177a0514ac3aaa9be206d9d7a40",
            "d71b708a1b194a5eb9589a7d14842d16",
            "179bd78fb69a425b875f70d2ea210926"
          ]
        },
        "outputId": "6b6eae87-42a1-42fa-b05b-72c7a2db168e"
      },
      "source": [
        "#Model Evaluation:\n",
        "evaluate_model(et)"
      ],
      "execution_count": null,
      "outputs": [
        {
          "output_type": "display_data",
          "data": {
            "application/vnd.jupyter.widget-view+json": {
              "model_id": "9589c9d9c3c44664a6f8988599c3f6e5",
              "version_minor": 0,
              "version_major": 2
            },
            "text/plain": [
              "interactive(children=(ToggleButtons(description='Plot Type:', icons=('',), options=(('Hyperparameters', 'param…"
            ]
          },
          "metadata": {
            "tags": []
          }
        }
      ]
    },
    {
      "cell_type": "code",
      "metadata": {
        "id": "vn43y8DOEFuN",
        "colab_type": "code",
        "colab": {
          "base_uri": "https://localhost:8080/",
          "height": 80
        },
        "outputId": "02bcba6d-50d6-445d-e01e-c6b570692f75"
      },
      "source": [
        "#Prediction:\n",
        "predict_model(et); #Accuracy: 99%"
      ],
      "execution_count": null,
      "outputs": [
        {
          "output_type": "display_data",
          "data": {
            "text/html": [
              "<div>\n",
              "<style scoped>\n",
              "    .dataframe tbody tr th:only-of-type {\n",
              "        vertical-align: middle;\n",
              "    }\n",
              "\n",
              "    .dataframe tbody tr th {\n",
              "        vertical-align: top;\n",
              "    }\n",
              "\n",
              "    .dataframe thead th {\n",
              "        text-align: right;\n",
              "    }\n",
              "</style>\n",
              "<table border=\"1\" class=\"dataframe\">\n",
              "  <thead>\n",
              "    <tr style=\"text-align: right;\">\n",
              "      <th></th>\n",
              "      <th>Model</th>\n",
              "      <th>Accuracy</th>\n",
              "      <th>AUC</th>\n",
              "      <th>Recall</th>\n",
              "      <th>Prec.</th>\n",
              "      <th>F1</th>\n",
              "      <th>Kappa</th>\n",
              "    </tr>\n",
              "  </thead>\n",
              "  <tbody>\n",
              "    <tr>\n",
              "      <th>0</th>\n",
              "      <td>Extra Trees Classifier</td>\n",
              "      <td>0.9995</td>\n",
              "      <td>0.9524</td>\n",
              "      <td>0.7857</td>\n",
              "      <td>0.9565</td>\n",
              "      <td>0.8627</td>\n",
              "      <td>0.8625</td>\n",
              "    </tr>\n",
              "  </tbody>\n",
              "</table>\n",
              "</div>"
            ],
            "text/plain": [
              "                    Model  Accuracy     AUC  Recall   Prec.      F1   Kappa\n",
              "0  Extra Trees Classifier    0.9995  0.9524  0.7857  0.9565  0.8627  0.8625"
            ]
          },
          "metadata": {
            "tags": []
          }
        }
      ]
    },
    {
      "cell_type": "code",
      "metadata": {
        "id": "p7Ne2ckrESWa",
        "colab_type": "code",
        "colab": {
          "base_uri": "https://localhost:8080/",
          "height": 355,
          "referenced_widgets": [
            "cae969889f6d407b9aa9bf25fc1ecb99",
            "273859cf84e24929b2445fd89e1625c2",
            "7a4d995934d3441190055ce800e543bd"
          ]
        },
        "outputId": "3e7c2f8e-bf30-4673-a534-53c37360bc42"
      },
      "source": [
        "compare_models()"
      ],
      "execution_count": null,
      "outputs": [
        {
          "output_type": "execute_result",
          "data": {
            "text/html": [
              "<style  type=\"text/css\" >\n",
              "    #T_c7671df4_ba31_11ea_bea0_0242ac1c0002 th {\n",
              "          text-align: left;\n",
              "    }    #T_c7671df4_ba31_11ea_bea0_0242ac1c0002row0_col0 {\n",
              "            text-align:  left;\n",
              "        }    #T_c7671df4_ba31_11ea_bea0_0242ac1c0002row0_col1 {\n",
              "            background-color:  yellow;\n",
              "            text-align:  left;\n",
              "        }    #T_c7671df4_ba31_11ea_bea0_0242ac1c0002row0_col2 {\n",
              "            : ;\n",
              "            text-align:  left;\n",
              "        }    #T_c7671df4_ba31_11ea_bea0_0242ac1c0002row0_col3 {\n",
              "            : ;\n",
              "            text-align:  left;\n",
              "        }    #T_c7671df4_ba31_11ea_bea0_0242ac1c0002row0_col4 {\n",
              "            : ;\n",
              "            text-align:  left;\n",
              "        }    #T_c7671df4_ba31_11ea_bea0_0242ac1c0002row0_col5 {\n",
              "            background-color:  yellow;\n",
              "            text-align:  left;\n",
              "        }    #T_c7671df4_ba31_11ea_bea0_0242ac1c0002row0_col6 {\n",
              "            background-color:  yellow;\n",
              "            text-align:  left;\n",
              "        }    #T_c7671df4_ba31_11ea_bea0_0242ac1c0002row1_col0 {\n",
              "            text-align:  left;\n",
              "        }    #T_c7671df4_ba31_11ea_bea0_0242ac1c0002row1_col1 {\n",
              "            background-color:  yellow;\n",
              "            text-align:  left;\n",
              "        }    #T_c7671df4_ba31_11ea_bea0_0242ac1c0002row1_col2 {\n",
              "            : ;\n",
              "            text-align:  left;\n",
              "        }    #T_c7671df4_ba31_11ea_bea0_0242ac1c0002row1_col3 {\n",
              "            : ;\n",
              "            text-align:  left;\n",
              "        }    #T_c7671df4_ba31_11ea_bea0_0242ac1c0002row1_col4 {\n",
              "            background-color:  yellow;\n",
              "            text-align:  left;\n",
              "        }    #T_c7671df4_ba31_11ea_bea0_0242ac1c0002row1_col5 {\n",
              "            : ;\n",
              "            text-align:  left;\n",
              "        }    #T_c7671df4_ba31_11ea_bea0_0242ac1c0002row1_col6 {\n",
              "            : ;\n",
              "            text-align:  left;\n",
              "        }    #T_c7671df4_ba31_11ea_bea0_0242ac1c0002row2_col0 {\n",
              "            text-align:  left;\n",
              "        }    #T_c7671df4_ba31_11ea_bea0_0242ac1c0002row2_col1 {\n",
              "            : ;\n",
              "            text-align:  left;\n",
              "        }    #T_c7671df4_ba31_11ea_bea0_0242ac1c0002row2_col2 {\n",
              "            : ;\n",
              "            text-align:  left;\n",
              "        }    #T_c7671df4_ba31_11ea_bea0_0242ac1c0002row2_col3 {\n",
              "            : ;\n",
              "            text-align:  left;\n",
              "        }    #T_c7671df4_ba31_11ea_bea0_0242ac1c0002row2_col4 {\n",
              "            : ;\n",
              "            text-align:  left;\n",
              "        }    #T_c7671df4_ba31_11ea_bea0_0242ac1c0002row2_col5 {\n",
              "            : ;\n",
              "            text-align:  left;\n",
              "        }    #T_c7671df4_ba31_11ea_bea0_0242ac1c0002row2_col6 {\n",
              "            : ;\n",
              "            text-align:  left;\n",
              "        }    #T_c7671df4_ba31_11ea_bea0_0242ac1c0002row3_col0 {\n",
              "            text-align:  left;\n",
              "        }    #T_c7671df4_ba31_11ea_bea0_0242ac1c0002row3_col1 {\n",
              "            : ;\n",
              "            text-align:  left;\n",
              "        }    #T_c7671df4_ba31_11ea_bea0_0242ac1c0002row3_col2 {\n",
              "            : ;\n",
              "            text-align:  left;\n",
              "        }    #T_c7671df4_ba31_11ea_bea0_0242ac1c0002row3_col3 {\n",
              "            : ;\n",
              "            text-align:  left;\n",
              "        }    #T_c7671df4_ba31_11ea_bea0_0242ac1c0002row3_col4 {\n",
              "            : ;\n",
              "            text-align:  left;\n",
              "        }    #T_c7671df4_ba31_11ea_bea0_0242ac1c0002row3_col5 {\n",
              "            : ;\n",
              "            text-align:  left;\n",
              "        }    #T_c7671df4_ba31_11ea_bea0_0242ac1c0002row3_col6 {\n",
              "            : ;\n",
              "            text-align:  left;\n",
              "        }    #T_c7671df4_ba31_11ea_bea0_0242ac1c0002row4_col0 {\n",
              "            text-align:  left;\n",
              "        }    #T_c7671df4_ba31_11ea_bea0_0242ac1c0002row4_col1 {\n",
              "            : ;\n",
              "            text-align:  left;\n",
              "        }    #T_c7671df4_ba31_11ea_bea0_0242ac1c0002row4_col2 {\n",
              "            : ;\n",
              "            text-align:  left;\n",
              "        }    #T_c7671df4_ba31_11ea_bea0_0242ac1c0002row4_col3 {\n",
              "            : ;\n",
              "            text-align:  left;\n",
              "        }    #T_c7671df4_ba31_11ea_bea0_0242ac1c0002row4_col4 {\n",
              "            : ;\n",
              "            text-align:  left;\n",
              "        }    #T_c7671df4_ba31_11ea_bea0_0242ac1c0002row4_col5 {\n",
              "            : ;\n",
              "            text-align:  left;\n",
              "        }    #T_c7671df4_ba31_11ea_bea0_0242ac1c0002row4_col6 {\n",
              "            : ;\n",
              "            text-align:  left;\n",
              "        }    #T_c7671df4_ba31_11ea_bea0_0242ac1c0002row5_col0 {\n",
              "            text-align:  left;\n",
              "        }    #T_c7671df4_ba31_11ea_bea0_0242ac1c0002row5_col1 {\n",
              "            : ;\n",
              "            text-align:  left;\n",
              "        }    #T_c7671df4_ba31_11ea_bea0_0242ac1c0002row5_col2 {\n",
              "            background-color:  yellow;\n",
              "            text-align:  left;\n",
              "        }    #T_c7671df4_ba31_11ea_bea0_0242ac1c0002row5_col3 {\n",
              "            : ;\n",
              "            text-align:  left;\n",
              "        }    #T_c7671df4_ba31_11ea_bea0_0242ac1c0002row5_col4 {\n",
              "            : ;\n",
              "            text-align:  left;\n",
              "        }    #T_c7671df4_ba31_11ea_bea0_0242ac1c0002row5_col5 {\n",
              "            : ;\n",
              "            text-align:  left;\n",
              "        }    #T_c7671df4_ba31_11ea_bea0_0242ac1c0002row5_col6 {\n",
              "            : ;\n",
              "            text-align:  left;\n",
              "        }    #T_c7671df4_ba31_11ea_bea0_0242ac1c0002row6_col0 {\n",
              "            text-align:  left;\n",
              "        }    #T_c7671df4_ba31_11ea_bea0_0242ac1c0002row6_col1 {\n",
              "            : ;\n",
              "            text-align:  left;\n",
              "        }    #T_c7671df4_ba31_11ea_bea0_0242ac1c0002row6_col2 {\n",
              "            : ;\n",
              "            text-align:  left;\n",
              "        }    #T_c7671df4_ba31_11ea_bea0_0242ac1c0002row6_col3 {\n",
              "            : ;\n",
              "            text-align:  left;\n",
              "        }    #T_c7671df4_ba31_11ea_bea0_0242ac1c0002row6_col4 {\n",
              "            : ;\n",
              "            text-align:  left;\n",
              "        }    #T_c7671df4_ba31_11ea_bea0_0242ac1c0002row6_col5 {\n",
              "            : ;\n",
              "            text-align:  left;\n",
              "        }    #T_c7671df4_ba31_11ea_bea0_0242ac1c0002row6_col6 {\n",
              "            : ;\n",
              "            text-align:  left;\n",
              "        }    #T_c7671df4_ba31_11ea_bea0_0242ac1c0002row7_col0 {\n",
              "            text-align:  left;\n",
              "        }    #T_c7671df4_ba31_11ea_bea0_0242ac1c0002row7_col1 {\n",
              "            : ;\n",
              "            text-align:  left;\n",
              "        }    #T_c7671df4_ba31_11ea_bea0_0242ac1c0002row7_col2 {\n",
              "            : ;\n",
              "            text-align:  left;\n",
              "        }    #T_c7671df4_ba31_11ea_bea0_0242ac1c0002row7_col3 {\n",
              "            : ;\n",
              "            text-align:  left;\n",
              "        }    #T_c7671df4_ba31_11ea_bea0_0242ac1c0002row7_col4 {\n",
              "            : ;\n",
              "            text-align:  left;\n",
              "        }    #T_c7671df4_ba31_11ea_bea0_0242ac1c0002row7_col5 {\n",
              "            : ;\n",
              "            text-align:  left;\n",
              "        }    #T_c7671df4_ba31_11ea_bea0_0242ac1c0002row7_col6 {\n",
              "            : ;\n",
              "            text-align:  left;\n",
              "        }    #T_c7671df4_ba31_11ea_bea0_0242ac1c0002row8_col0 {\n",
              "            text-align:  left;\n",
              "        }    #T_c7671df4_ba31_11ea_bea0_0242ac1c0002row8_col1 {\n",
              "            : ;\n",
              "            text-align:  left;\n",
              "        }    #T_c7671df4_ba31_11ea_bea0_0242ac1c0002row8_col2 {\n",
              "            : ;\n",
              "            text-align:  left;\n",
              "        }    #T_c7671df4_ba31_11ea_bea0_0242ac1c0002row8_col3 {\n",
              "            : ;\n",
              "            text-align:  left;\n",
              "        }    #T_c7671df4_ba31_11ea_bea0_0242ac1c0002row8_col4 {\n",
              "            : ;\n",
              "            text-align:  left;\n",
              "        }    #T_c7671df4_ba31_11ea_bea0_0242ac1c0002row8_col5 {\n",
              "            : ;\n",
              "            text-align:  left;\n",
              "        }    #T_c7671df4_ba31_11ea_bea0_0242ac1c0002row8_col6 {\n",
              "            : ;\n",
              "            text-align:  left;\n",
              "        }    #T_c7671df4_ba31_11ea_bea0_0242ac1c0002row9_col0 {\n",
              "            text-align:  left;\n",
              "        }    #T_c7671df4_ba31_11ea_bea0_0242ac1c0002row9_col1 {\n",
              "            : ;\n",
              "            text-align:  left;\n",
              "        }    #T_c7671df4_ba31_11ea_bea0_0242ac1c0002row9_col2 {\n",
              "            : ;\n",
              "            text-align:  left;\n",
              "        }    #T_c7671df4_ba31_11ea_bea0_0242ac1c0002row9_col3 {\n",
              "            : ;\n",
              "            text-align:  left;\n",
              "        }    #T_c7671df4_ba31_11ea_bea0_0242ac1c0002row9_col4 {\n",
              "            : ;\n",
              "            text-align:  left;\n",
              "        }    #T_c7671df4_ba31_11ea_bea0_0242ac1c0002row9_col5 {\n",
              "            : ;\n",
              "            text-align:  left;\n",
              "        }    #T_c7671df4_ba31_11ea_bea0_0242ac1c0002row9_col6 {\n",
              "            : ;\n",
              "            text-align:  left;\n",
              "        }    #T_c7671df4_ba31_11ea_bea0_0242ac1c0002row10_col0 {\n",
              "            text-align:  left;\n",
              "        }    #T_c7671df4_ba31_11ea_bea0_0242ac1c0002row10_col1 {\n",
              "            : ;\n",
              "            text-align:  left;\n",
              "        }    #T_c7671df4_ba31_11ea_bea0_0242ac1c0002row10_col2 {\n",
              "            : ;\n",
              "            text-align:  left;\n",
              "        }    #T_c7671df4_ba31_11ea_bea0_0242ac1c0002row10_col3 {\n",
              "            : ;\n",
              "            text-align:  left;\n",
              "        }    #T_c7671df4_ba31_11ea_bea0_0242ac1c0002row10_col4 {\n",
              "            : ;\n",
              "            text-align:  left;\n",
              "        }    #T_c7671df4_ba31_11ea_bea0_0242ac1c0002row10_col5 {\n",
              "            : ;\n",
              "            text-align:  left;\n",
              "        }    #T_c7671df4_ba31_11ea_bea0_0242ac1c0002row10_col6 {\n",
              "            : ;\n",
              "            text-align:  left;\n",
              "        }    #T_c7671df4_ba31_11ea_bea0_0242ac1c0002row11_col0 {\n",
              "            text-align:  left;\n",
              "        }    #T_c7671df4_ba31_11ea_bea0_0242ac1c0002row11_col1 {\n",
              "            : ;\n",
              "            text-align:  left;\n",
              "        }    #T_c7671df4_ba31_11ea_bea0_0242ac1c0002row11_col2 {\n",
              "            : ;\n",
              "            text-align:  left;\n",
              "        }    #T_c7671df4_ba31_11ea_bea0_0242ac1c0002row11_col3 {\n",
              "            : ;\n",
              "            text-align:  left;\n",
              "        }    #T_c7671df4_ba31_11ea_bea0_0242ac1c0002row11_col4 {\n",
              "            : ;\n",
              "            text-align:  left;\n",
              "        }    #T_c7671df4_ba31_11ea_bea0_0242ac1c0002row11_col5 {\n",
              "            : ;\n",
              "            text-align:  left;\n",
              "        }    #T_c7671df4_ba31_11ea_bea0_0242ac1c0002row11_col6 {\n",
              "            : ;\n",
              "            text-align:  left;\n",
              "        }    #T_c7671df4_ba31_11ea_bea0_0242ac1c0002row12_col0 {\n",
              "            text-align:  left;\n",
              "        }    #T_c7671df4_ba31_11ea_bea0_0242ac1c0002row12_col1 {\n",
              "            : ;\n",
              "            text-align:  left;\n",
              "        }    #T_c7671df4_ba31_11ea_bea0_0242ac1c0002row12_col2 {\n",
              "            : ;\n",
              "            text-align:  left;\n",
              "        }    #T_c7671df4_ba31_11ea_bea0_0242ac1c0002row12_col3 {\n",
              "            : ;\n",
              "            text-align:  left;\n",
              "        }    #T_c7671df4_ba31_11ea_bea0_0242ac1c0002row12_col4 {\n",
              "            : ;\n",
              "            text-align:  left;\n",
              "        }    #T_c7671df4_ba31_11ea_bea0_0242ac1c0002row12_col5 {\n",
              "            : ;\n",
              "            text-align:  left;\n",
              "        }    #T_c7671df4_ba31_11ea_bea0_0242ac1c0002row12_col6 {\n",
              "            : ;\n",
              "            text-align:  left;\n",
              "        }    #T_c7671df4_ba31_11ea_bea0_0242ac1c0002row13_col0 {\n",
              "            text-align:  left;\n",
              "        }    #T_c7671df4_ba31_11ea_bea0_0242ac1c0002row13_col1 {\n",
              "            : ;\n",
              "            text-align:  left;\n",
              "        }    #T_c7671df4_ba31_11ea_bea0_0242ac1c0002row13_col2 {\n",
              "            : ;\n",
              "            text-align:  left;\n",
              "        }    #T_c7671df4_ba31_11ea_bea0_0242ac1c0002row13_col3 {\n",
              "            : ;\n",
              "            text-align:  left;\n",
              "        }    #T_c7671df4_ba31_11ea_bea0_0242ac1c0002row13_col4 {\n",
              "            : ;\n",
              "            text-align:  left;\n",
              "        }    #T_c7671df4_ba31_11ea_bea0_0242ac1c0002row13_col5 {\n",
              "            : ;\n",
              "            text-align:  left;\n",
              "        }    #T_c7671df4_ba31_11ea_bea0_0242ac1c0002row13_col6 {\n",
              "            : ;\n",
              "            text-align:  left;\n",
              "        }    #T_c7671df4_ba31_11ea_bea0_0242ac1c0002row14_col0 {\n",
              "            text-align:  left;\n",
              "        }    #T_c7671df4_ba31_11ea_bea0_0242ac1c0002row14_col1 {\n",
              "            : ;\n",
              "            text-align:  left;\n",
              "        }    #T_c7671df4_ba31_11ea_bea0_0242ac1c0002row14_col2 {\n",
              "            : ;\n",
              "            text-align:  left;\n",
              "        }    #T_c7671df4_ba31_11ea_bea0_0242ac1c0002row14_col3 {\n",
              "            background-color:  yellow;\n",
              "            text-align:  left;\n",
              "        }    #T_c7671df4_ba31_11ea_bea0_0242ac1c0002row14_col4 {\n",
              "            : ;\n",
              "            text-align:  left;\n",
              "        }    #T_c7671df4_ba31_11ea_bea0_0242ac1c0002row14_col5 {\n",
              "            : ;\n",
              "            text-align:  left;\n",
              "        }    #T_c7671df4_ba31_11ea_bea0_0242ac1c0002row14_col6 {\n",
              "            : ;\n",
              "            text-align:  left;\n",
              "        }</style><table id=\"T_c7671df4_ba31_11ea_bea0_0242ac1c0002\" ><thead>    <tr>        <th class=\"blank level0\" ></th>        <th class=\"col_heading level0 col0\" >Model</th>        <th class=\"col_heading level0 col1\" >Accuracy</th>        <th class=\"col_heading level0 col2\" >AUC</th>        <th class=\"col_heading level0 col3\" >Recall</th>        <th class=\"col_heading level0 col4\" >Prec.</th>        <th class=\"col_heading level0 col5\" >F1</th>        <th class=\"col_heading level0 col6\" >Kappa</th>    </tr></thead><tbody>\n",
              "                <tr>\n",
              "                        <th id=\"T_c7671df4_ba31_11ea_bea0_0242ac1c0002level0_row0\" class=\"row_heading level0 row0\" >0</th>\n",
              "                        <td id=\"T_c7671df4_ba31_11ea_bea0_0242ac1c0002row0_col0\" class=\"data row0 col0\" >Extreme Gradient Boosting</td>\n",
              "                        <td id=\"T_c7671df4_ba31_11ea_bea0_0242ac1c0002row0_col1\" class=\"data row0 col1\" >0.999500</td>\n",
              "                        <td id=\"T_c7671df4_ba31_11ea_bea0_0242ac1c0002row0_col2\" class=\"data row0 col2\" >0.971400</td>\n",
              "                        <td id=\"T_c7671df4_ba31_11ea_bea0_0242ac1c0002row0_col3\" class=\"data row0 col3\" >0.791000</td>\n",
              "                        <td id=\"T_c7671df4_ba31_11ea_bea0_0242ac1c0002row0_col4\" class=\"data row0 col4\" >0.923100</td>\n",
              "                        <td id=\"T_c7671df4_ba31_11ea_bea0_0242ac1c0002row0_col5\" class=\"data row0 col5\" >0.847800</td>\n",
              "                        <td id=\"T_c7671df4_ba31_11ea_bea0_0242ac1c0002row0_col6\" class=\"data row0 col6\" >0.847500</td>\n",
              "            </tr>\n",
              "            <tr>\n",
              "                        <th id=\"T_c7671df4_ba31_11ea_bea0_0242ac1c0002level0_row1\" class=\"row_heading level0 row1\" >1</th>\n",
              "                        <td id=\"T_c7671df4_ba31_11ea_bea0_0242ac1c0002row1_col0\" class=\"data row1 col0\" >CatBoost Classifier</td>\n",
              "                        <td id=\"T_c7671df4_ba31_11ea_bea0_0242ac1c0002row1_col1\" class=\"data row1 col1\" >0.999500</td>\n",
              "                        <td id=\"T_c7671df4_ba31_11ea_bea0_0242ac1c0002row1_col2\" class=\"data row1 col2\" >0.967000</td>\n",
              "                        <td id=\"T_c7671df4_ba31_11ea_bea0_0242ac1c0002row1_col3\" class=\"data row1 col3\" >0.760300</td>\n",
              "                        <td id=\"T_c7671df4_ba31_11ea_bea0_0242ac1c0002row1_col4\" class=\"data row1 col4\" >0.962100</td>\n",
              "                        <td id=\"T_c7671df4_ba31_11ea_bea0_0242ac1c0002row1_col5\" class=\"data row1 col5\" >0.847200</td>\n",
              "                        <td id=\"T_c7671df4_ba31_11ea_bea0_0242ac1c0002row1_col6\" class=\"data row1 col6\" >0.846900</td>\n",
              "            </tr>\n",
              "            <tr>\n",
              "                        <th id=\"T_c7671df4_ba31_11ea_bea0_0242ac1c0002level0_row2\" class=\"row_heading level0 row2\" >2</th>\n",
              "                        <td id=\"T_c7671df4_ba31_11ea_bea0_0242ac1c0002row2_col0\" class=\"data row2 col0\" >Random Forest Classifier</td>\n",
              "                        <td id=\"T_c7671df4_ba31_11ea_bea0_0242ac1c0002row2_col1\" class=\"data row2 col1\" >0.999400</td>\n",
              "                        <td id=\"T_c7671df4_ba31_11ea_bea0_0242ac1c0002row2_col2\" class=\"data row2 col2\" >0.925900</td>\n",
              "                        <td id=\"T_c7671df4_ba31_11ea_bea0_0242ac1c0002row2_col3\" class=\"data row2 col3\" >0.698100</td>\n",
              "                        <td id=\"T_c7671df4_ba31_11ea_bea0_0242ac1c0002row2_col4\" class=\"data row2 col4\" >0.952700</td>\n",
              "                        <td id=\"T_c7671df4_ba31_11ea_bea0_0242ac1c0002row2_col5\" class=\"data row2 col5\" >0.801200</td>\n",
              "                        <td id=\"T_c7671df4_ba31_11ea_bea0_0242ac1c0002row2_col6\" class=\"data row2 col6\" >0.800900</td>\n",
              "            </tr>\n",
              "            <tr>\n",
              "                        <th id=\"T_c7671df4_ba31_11ea_bea0_0242ac1c0002level0_row3\" class=\"row_heading level0 row3\" >3</th>\n",
              "                        <td id=\"T_c7671df4_ba31_11ea_bea0_0242ac1c0002row3_col0\" class=\"data row3 col0\" >Extra Trees Classifier</td>\n",
              "                        <td id=\"T_c7671df4_ba31_11ea_bea0_0242ac1c0002row3_col1\" class=\"data row3 col1\" >0.999400</td>\n",
              "                        <td id=\"T_c7671df4_ba31_11ea_bea0_0242ac1c0002row3_col2\" class=\"data row3 col2\" >0.948200</td>\n",
              "                        <td id=\"T_c7671df4_ba31_11ea_bea0_0242ac1c0002row3_col3\" class=\"data row3 col3\" >0.767900</td>\n",
              "                        <td id=\"T_c7671df4_ba31_11ea_bea0_0242ac1c0002row3_col4\" class=\"data row3 col4\" >0.928200</td>\n",
              "                        <td id=\"T_c7671df4_ba31_11ea_bea0_0242ac1c0002row3_col5\" class=\"data row3 col5\" >0.837300</td>\n",
              "                        <td id=\"T_c7671df4_ba31_11ea_bea0_0242ac1c0002row3_col6\" class=\"data row3 col6\" >0.837000</td>\n",
              "            </tr>\n",
              "            <tr>\n",
              "                        <th id=\"T_c7671df4_ba31_11ea_bea0_0242ac1c0002level0_row4\" class=\"row_heading level0 row4\" >4</th>\n",
              "                        <td id=\"T_c7671df4_ba31_11ea_bea0_0242ac1c0002row4_col0\" class=\"data row4 col0\" >Ada Boost Classifier</td>\n",
              "                        <td id=\"T_c7671df4_ba31_11ea_bea0_0242ac1c0002row4_col1\" class=\"data row4 col1\" >0.999300</td>\n",
              "                        <td id=\"T_c7671df4_ba31_11ea_bea0_0242ac1c0002row4_col2\" class=\"data row4 col2\" >0.955700</td>\n",
              "                        <td id=\"T_c7671df4_ba31_11ea_bea0_0242ac1c0002row4_col3\" class=\"data row4 col3\" >0.751900</td>\n",
              "                        <td id=\"T_c7671df4_ba31_11ea_bea0_0242ac1c0002row4_col4\" class=\"data row4 col4\" >0.869500</td>\n",
              "                        <td id=\"T_c7671df4_ba31_11ea_bea0_0242ac1c0002row4_col5\" class=\"data row4 col5\" >0.801400</td>\n",
              "                        <td id=\"T_c7671df4_ba31_11ea_bea0_0242ac1c0002row4_col6\" class=\"data row4 col6\" >0.801100</td>\n",
              "            </tr>\n",
              "            <tr>\n",
              "                        <th id=\"T_c7671df4_ba31_11ea_bea0_0242ac1c0002level0_row5\" class=\"row_heading level0 row5\" >5</th>\n",
              "                        <td id=\"T_c7671df4_ba31_11ea_bea0_0242ac1c0002row5_col0\" class=\"data row5 col0\" >Linear Discriminant Analysis</td>\n",
              "                        <td id=\"T_c7671df4_ba31_11ea_bea0_0242ac1c0002row5_col1\" class=\"data row5 col1\" >0.999200</td>\n",
              "                        <td id=\"T_c7671df4_ba31_11ea_bea0_0242ac1c0002row5_col2\" class=\"data row5 col2\" >0.975400</td>\n",
              "                        <td id=\"T_c7671df4_ba31_11ea_bea0_0242ac1c0002row5_col3\" class=\"data row5 col3\" >0.767900</td>\n",
              "                        <td id=\"T_c7671df4_ba31_11ea_bea0_0242ac1c0002row5_col4\" class=\"data row5 col4\" >0.823500</td>\n",
              "                        <td id=\"T_c7671df4_ba31_11ea_bea0_0242ac1c0002row5_col5\" class=\"data row5 col5\" >0.787700</td>\n",
              "                        <td id=\"T_c7671df4_ba31_11ea_bea0_0242ac1c0002row5_col6\" class=\"data row5 col6\" >0.787400</td>\n",
              "            </tr>\n",
              "            <tr>\n",
              "                        <th id=\"T_c7671df4_ba31_11ea_bea0_0242ac1c0002level0_row6\" class=\"row_heading level0 row6\" >6</th>\n",
              "                        <td id=\"T_c7671df4_ba31_11ea_bea0_0242ac1c0002row6_col0\" class=\"data row6 col0\" >Decision Tree Classifier</td>\n",
              "                        <td id=\"T_c7671df4_ba31_11ea_bea0_0242ac1c0002row6_col1\" class=\"data row6 col1\" >0.999100</td>\n",
              "                        <td id=\"T_c7671df4_ba31_11ea_bea0_0242ac1c0002row6_col2\" class=\"data row6 col2\" >0.874800</td>\n",
              "                        <td id=\"T_c7671df4_ba31_11ea_bea0_0242ac1c0002row6_col3\" class=\"data row6 col3\" >0.750000</td>\n",
              "                        <td id=\"T_c7671df4_ba31_11ea_bea0_0242ac1c0002row6_col4\" class=\"data row6 col4\" >0.778600</td>\n",
              "                        <td id=\"T_c7671df4_ba31_11ea_bea0_0242ac1c0002row6_col5\" class=\"data row6 col5\" >0.754400</td>\n",
              "                        <td id=\"T_c7671df4_ba31_11ea_bea0_0242ac1c0002row6_col6\" class=\"data row6 col6\" >0.753900</td>\n",
              "            </tr>\n",
              "            <tr>\n",
              "                        <th id=\"T_c7671df4_ba31_11ea_bea0_0242ac1c0002level0_row7\" class=\"row_heading level0 row7\" >7</th>\n",
              "                        <td id=\"T_c7671df4_ba31_11ea_bea0_0242ac1c0002row7_col0\" class=\"data row7 col0\" >Gradient Boosting Classifier</td>\n",
              "                        <td id=\"T_c7671df4_ba31_11ea_bea0_0242ac1c0002row7_col1\" class=\"data row7 col1\" >0.999000</td>\n",
              "                        <td id=\"T_c7671df4_ba31_11ea_bea0_0242ac1c0002row7_col2\" class=\"data row7 col2\" >0.777200</td>\n",
              "                        <td id=\"T_c7671df4_ba31_11ea_bea0_0242ac1c0002row7_col3\" class=\"data row7 col3\" >0.645500</td>\n",
              "                        <td id=\"T_c7671df4_ba31_11ea_bea0_0242ac1c0002row7_col4\" class=\"data row7 col4\" >0.836500</td>\n",
              "                        <td id=\"T_c7671df4_ba31_11ea_bea0_0242ac1c0002row7_col5\" class=\"data row7 col5\" >0.686700</td>\n",
              "                        <td id=\"T_c7671df4_ba31_11ea_bea0_0242ac1c0002row7_col6\" class=\"data row7 col6\" >0.686300</td>\n",
              "            </tr>\n",
              "            <tr>\n",
              "                        <th id=\"T_c7671df4_ba31_11ea_bea0_0242ac1c0002level0_row8\" class=\"row_heading level0 row8\" >8</th>\n",
              "                        <td id=\"T_c7671df4_ba31_11ea_bea0_0242ac1c0002row8_col0\" class=\"data row8 col0\" >Logistic Regression</td>\n",
              "                        <td id=\"T_c7671df4_ba31_11ea_bea0_0242ac1c0002row8_col1\" class=\"data row8 col1\" >0.998600</td>\n",
              "                        <td id=\"T_c7671df4_ba31_11ea_bea0_0242ac1c0002row8_col2\" class=\"data row8 col2\" >0.901100</td>\n",
              "                        <td id=\"T_c7671df4_ba31_11ea_bea0_0242ac1c0002row8_col3\" class=\"data row8 col3\" >0.478200</td>\n",
              "                        <td id=\"T_c7671df4_ba31_11ea_bea0_0242ac1c0002row8_col4\" class=\"data row8 col4\" >0.674100</td>\n",
              "                        <td id=\"T_c7671df4_ba31_11ea_bea0_0242ac1c0002row8_col5\" class=\"data row8 col5\" >0.548900</td>\n",
              "                        <td id=\"T_c7671df4_ba31_11ea_bea0_0242ac1c0002row8_col6\" class=\"data row8 col6\" >0.548200</td>\n",
              "            </tr>\n",
              "            <tr>\n",
              "                        <th id=\"T_c7671df4_ba31_11ea_bea0_0242ac1c0002level0_row9\" class=\"row_heading level0 row9\" >9</th>\n",
              "                        <td id=\"T_c7671df4_ba31_11ea_bea0_0242ac1c0002row9_col0\" class=\"data row9 col0\" >Ridge Classifier</td>\n",
              "                        <td id=\"T_c7671df4_ba31_11ea_bea0_0242ac1c0002row9_col1\" class=\"data row9 col1\" >0.998600</td>\n",
              "                        <td id=\"T_c7671df4_ba31_11ea_bea0_0242ac1c0002row9_col2\" class=\"data row9 col2\" >0.000000</td>\n",
              "                        <td id=\"T_c7671df4_ba31_11ea_bea0_0242ac1c0002row9_col3\" class=\"data row9 col3\" >0.410300</td>\n",
              "                        <td id=\"T_c7671df4_ba31_11ea_bea0_0242ac1c0002row9_col4\" class=\"data row9 col4\" >0.721900</td>\n",
              "                        <td id=\"T_c7671df4_ba31_11ea_bea0_0242ac1c0002row9_col5\" class=\"data row9 col5\" >0.514000</td>\n",
              "                        <td id=\"T_c7671df4_ba31_11ea_bea0_0242ac1c0002row9_col6\" class=\"data row9 col6\" >0.513300</td>\n",
              "            </tr>\n",
              "            <tr>\n",
              "                        <th id=\"T_c7671df4_ba31_11ea_bea0_0242ac1c0002level0_row10\" class=\"row_heading level0 row10\" >10</th>\n",
              "                        <td id=\"T_c7671df4_ba31_11ea_bea0_0242ac1c0002row10_col0\" class=\"data row10 col0\" >K Neighbors Classifier</td>\n",
              "                        <td id=\"T_c7671df4_ba31_11ea_bea0_0242ac1c0002row10_col1\" class=\"data row10 col1\" >0.998100</td>\n",
              "                        <td id=\"T_c7671df4_ba31_11ea_bea0_0242ac1c0002row10_col2\" class=\"data row10 col2\" >0.591000</td>\n",
              "                        <td id=\"T_c7671df4_ba31_11ea_bea0_0242ac1c0002row10_col3\" class=\"data row10 col3\" >0.000000</td>\n",
              "                        <td id=\"T_c7671df4_ba31_11ea_bea0_0242ac1c0002row10_col4\" class=\"data row10 col4\" >0.000000</td>\n",
              "                        <td id=\"T_c7671df4_ba31_11ea_bea0_0242ac1c0002row10_col5\" class=\"data row10 col5\" >0.000000</td>\n",
              "                        <td id=\"T_c7671df4_ba31_11ea_bea0_0242ac1c0002row10_col6\" class=\"data row10 col6\" >0.000000</td>\n",
              "            </tr>\n",
              "            <tr>\n",
              "                        <th id=\"T_c7671df4_ba31_11ea_bea0_0242ac1c0002level0_row11\" class=\"row_heading level0 row11\" >11</th>\n",
              "                        <td id=\"T_c7671df4_ba31_11ea_bea0_0242ac1c0002row11_col0\" class=\"data row11 col0\" >SVM - Linear Kernel</td>\n",
              "                        <td id=\"T_c7671df4_ba31_11ea_bea0_0242ac1c0002row11_col1\" class=\"data row11 col1\" >0.997900</td>\n",
              "                        <td id=\"T_c7671df4_ba31_11ea_bea0_0242ac1c0002row11_col2\" class=\"data row11 col2\" >0.000000</td>\n",
              "                        <td id=\"T_c7671df4_ba31_11ea_bea0_0242ac1c0002row11_col3\" class=\"data row11 col3\" >0.000000</td>\n",
              "                        <td id=\"T_c7671df4_ba31_11ea_bea0_0242ac1c0002row11_col4\" class=\"data row11 col4\" >0.000000</td>\n",
              "                        <td id=\"T_c7671df4_ba31_11ea_bea0_0242ac1c0002row11_col5\" class=\"data row11 col5\" >0.000000</td>\n",
              "                        <td id=\"T_c7671df4_ba31_11ea_bea0_0242ac1c0002row11_col6\" class=\"data row11 col6\" >-0.000200</td>\n",
              "            </tr>\n",
              "            <tr>\n",
              "                        <th id=\"T_c7671df4_ba31_11ea_bea0_0242ac1c0002level0_row12\" class=\"row_heading level0 row12\" >12</th>\n",
              "                        <td id=\"T_c7671df4_ba31_11ea_bea0_0242ac1c0002row12_col0\" class=\"data row12 col0\" >Light Gradient Boosting Machine</td>\n",
              "                        <td id=\"T_c7671df4_ba31_11ea_bea0_0242ac1c0002row12_col1\" class=\"data row12 col1\" >0.994600</td>\n",
              "                        <td id=\"T_c7671df4_ba31_11ea_bea0_0242ac1c0002row12_col2\" class=\"data row12 col2\" >0.494100</td>\n",
              "                        <td id=\"T_c7671df4_ba31_11ea_bea0_0242ac1c0002row12_col3\" class=\"data row12 col3\" >0.161500</td>\n",
              "                        <td id=\"T_c7671df4_ba31_11ea_bea0_0242ac1c0002row12_col4\" class=\"data row12 col4\" >0.127800</td>\n",
              "                        <td id=\"T_c7671df4_ba31_11ea_bea0_0242ac1c0002row12_col5\" class=\"data row12 col5\" >0.127600</td>\n",
              "                        <td id=\"T_c7671df4_ba31_11ea_bea0_0242ac1c0002row12_col6\" class=\"data row12 col6\" >0.125500</td>\n",
              "            </tr>\n",
              "            <tr>\n",
              "                        <th id=\"T_c7671df4_ba31_11ea_bea0_0242ac1c0002level0_row13\" class=\"row_heading level0 row13\" >13</th>\n",
              "                        <td id=\"T_c7671df4_ba31_11ea_bea0_0242ac1c0002row13_col0\" class=\"data row13 col0\" >Naive Bayes</td>\n",
              "                        <td id=\"T_c7671df4_ba31_11ea_bea0_0242ac1c0002row13_col1\" class=\"data row13 col1\" >0.986500</td>\n",
              "                        <td id=\"T_c7671df4_ba31_11ea_bea0_0242ac1c0002row13_col2\" class=\"data row13 col2\" >0.954300</td>\n",
              "                        <td id=\"T_c7671df4_ba31_11ea_bea0_0242ac1c0002row13_col3\" class=\"data row13 col3\" >0.814100</td>\n",
              "                        <td id=\"T_c7671df4_ba31_11ea_bea0_0242ac1c0002row13_col4\" class=\"data row13 col4\" >0.105700</td>\n",
              "                        <td id=\"T_c7671df4_ba31_11ea_bea0_0242ac1c0002row13_col5\" class=\"data row13 col5\" >0.186900</td>\n",
              "                        <td id=\"T_c7671df4_ba31_11ea_bea0_0242ac1c0002row13_col6\" class=\"data row13 col6\" >0.184200</td>\n",
              "            </tr>\n",
              "            <tr>\n",
              "                        <th id=\"T_c7671df4_ba31_11ea_bea0_0242ac1c0002level0_row14\" class=\"row_heading level0 row14\" >14</th>\n",
              "                        <td id=\"T_c7671df4_ba31_11ea_bea0_0242ac1c0002row14_col0\" class=\"data row14 col0\" >Quadratic Discriminant Analysis</td>\n",
              "                        <td id=\"T_c7671df4_ba31_11ea_bea0_0242ac1c0002row14_col1\" class=\"data row14 col1\" >0.975300</td>\n",
              "                        <td id=\"T_c7671df4_ba31_11ea_bea0_0242ac1c0002row14_col2\" class=\"data row14 col2\" >0.949500</td>\n",
              "                        <td id=\"T_c7671df4_ba31_11ea_bea0_0242ac1c0002row14_col3\" class=\"data row14 col3\" >0.876900</td>\n",
              "                        <td id=\"T_c7671df4_ba31_11ea_bea0_0242ac1c0002row14_col4\" class=\"data row14 col4\" >0.065800</td>\n",
              "                        <td id=\"T_c7671df4_ba31_11ea_bea0_0242ac1c0002row14_col5\" class=\"data row14 col5\" >0.122200</td>\n",
              "                        <td id=\"T_c7671df4_ba31_11ea_bea0_0242ac1c0002row14_col6\" class=\"data row14 col6\" >0.119100</td>\n",
              "            </tr>\n",
              "    </tbody></table>"
            ],
            "text/plain": [
              "<pandas.io.formats.style.Styler at 0x7fb51be62f60>"
            ]
          },
          "metadata": {
            "tags": []
          },
          "execution_count": 95
        }
      ]
    },
    {
      "cell_type": "code",
      "metadata": {
        "id": "WhLfMLFOIO3u",
        "colab_type": "code",
        "colab": {
          "base_uri": "https://localhost:8080/",
          "height": 51
        },
        "outputId": "0897008a-c35b-45da-b117-00b23e8b405a"
      },
      "source": [
        "#find the number of fraud and valid transactions dataset.\n",
        "\n",
        "fraud = transactions[transactions['Class']==1]\n",
        "normal = transactions[transactions['Class']==0]\n",
        "print(f\"Shape of Fraudulant transactions: {fraud.shape}\")\n",
        "print(f\"Shape of Non-Fraudulant transactions: {normal.shape}\")"
      ],
      "execution_count": null,
      "outputs": [
        {
          "output_type": "stream",
          "text": [
            "Shape of Fraudulant transactions: (264, 31)\n",
            "Shape of Non-Fraudulant transactions: (138458, 31)\n"
          ],
          "name": "stdout"
        }
      ]
    },
    {
      "cell_type": "code",
      "metadata": {
        "id": "En6APb6fOOhT",
        "colab_type": "code",
        "colab": {
          "base_uri": "https://localhost:8080/",
          "height": 297
        },
        "outputId": "5893e6c3-fe19-405e-d16c-ad4337fb0fa5"
      },
      "source": [
        "pd.concat([fraud.Amount.describe(), normal.Amount.describe()], axis=1)"
      ],
      "execution_count": null,
      "outputs": [
        {
          "output_type": "execute_result",
          "data": {
            "text/html": [
              "<div>\n",
              "<style scoped>\n",
              "    .dataframe tbody tr th:only-of-type {\n",
              "        vertical-align: middle;\n",
              "    }\n",
              "\n",
              "    .dataframe tbody tr th {\n",
              "        vertical-align: top;\n",
              "    }\n",
              "\n",
              "    .dataframe thead th {\n",
              "        text-align: right;\n",
              "    }\n",
              "</style>\n",
              "<table border=\"1\" class=\"dataframe\">\n",
              "  <thead>\n",
              "    <tr style=\"text-align: right;\">\n",
              "      <th></th>\n",
              "      <th>Amount</th>\n",
              "      <th>Amount</th>\n",
              "    </tr>\n",
              "  </thead>\n",
              "  <tbody>\n",
              "    <tr>\n",
              "      <th>count</th>\n",
              "      <td>264.000000</td>\n",
              "      <td>138458.000000</td>\n",
              "    </tr>\n",
              "    <tr>\n",
              "      <th>mean</th>\n",
              "      <td>115.387008</td>\n",
              "      <td>91.326355</td>\n",
              "    </tr>\n",
              "    <tr>\n",
              "      <th>std</th>\n",
              "      <td>245.189867</td>\n",
              "      <td>247.818289</td>\n",
              "    </tr>\n",
              "    <tr>\n",
              "      <th>min</th>\n",
              "      <td>0.000000</td>\n",
              "      <td>0.000000</td>\n",
              "    </tr>\n",
              "    <tr>\n",
              "      <th>25%</th>\n",
              "      <td>1.000000</td>\n",
              "      <td>6.040000</td>\n",
              "    </tr>\n",
              "    <tr>\n",
              "      <th>50%</th>\n",
              "      <td>9.560000</td>\n",
              "      <td>23.990000</td>\n",
              "    </tr>\n",
              "    <tr>\n",
              "      <th>75%</th>\n",
              "      <td>99.990000</td>\n",
              "      <td>81.000000</td>\n",
              "    </tr>\n",
              "    <tr>\n",
              "      <th>max</th>\n",
              "      <td>1809.680000</td>\n",
              "      <td>19656.530000</td>\n",
              "    </tr>\n",
              "  </tbody>\n",
              "</table>\n",
              "</div>"
            ],
            "text/plain": [
              "            Amount         Amount\n",
              "count   264.000000  138458.000000\n",
              "mean    115.387008      91.326355\n",
              "std     245.189867     247.818289\n",
              "min       0.000000       0.000000\n",
              "25%       1.000000       6.040000\n",
              "50%       9.560000      23.990000\n",
              "75%      99.990000      81.000000\n",
              "max    1809.680000   19656.530000"
            ]
          },
          "metadata": {
            "tags": []
          },
          "execution_count": 97
        }
      ]
    },
    {
      "cell_type": "code",
      "metadata": {
        "id": "Bke356rHOU5D",
        "colab_type": "code",
        "colab": {
          "base_uri": "https://localhost:8080/",
          "height": 275
        },
        "outputId": "abbdcde6-c47d-41bf-cfe1-9d754a715fa0"
      },
      "source": [
        "plt.figure(figsize=(10,8))\n",
        "\n",
        "plt.subplot(2, 2, 1)\n",
        "plt.title('Time Distribution (Seconds)')\n",
        "\n",
        "sns.distplot(transactions['Time'], color='red');\n",
        "\n",
        "\n",
        "plt.subplot(2, 2, 2)\n",
        "plt.title('Distribution of Amount')\n",
        "sns.distplot(transactions['Amount'],color='green');"
      ],
      "execution_count": null,
      "outputs": [
        {
          "output_type": "display_data",
          "data": {
            "image/png": "[encoded data removed]",
            "text/plain": [
              "<Figure size 720x576 with 2 Axes>"
            ]
          },
          "metadata": {
            "tags": []
          }
        }
      ]
    },
    {
      "cell_type": "code",
      "metadata": {
        "id": "kG_Jv5v5OlaS",
        "colab_type": "code",
        "colab": {
          "base_uri": "https://localhost:8080/",
          "height": 927
        },
        "outputId": "b62994ad-a55f-4561-a00e-43d04597560d"
      },
      "source": [
        "#out modelling and prediction\n",
        "transactions.hist(figsize=(20, 20));"
      ],
      "execution_count": null,
      "outputs": [
        {
          "output_type": "display_data",
          "data": {
            "image/png": "[encoded data removed]",
            "text/plain": [
              "<Figure size 1440x1440 with 36 Axes>"
            ]
          },
          "metadata": {
            "tags": []
          }
        }
      ]
    },
    {
      "cell_type": "code",
      "metadata": {
        "id": "nGl_XXzTOxDb",
        "colab_type": "code",
        "colab": {
          "base_uri": "https://localhost:8080/",
          "height": 620
        },
        "outputId": "f2a7f80d-eafc-499b-ca94-3b68fac71813"
      },
      "source": [
        "# heatmap for high correlations\n",
        "plt.figure(figsize=(10,10))\n",
        "sns.heatmap(data=transactions.corr(), cmap=\"seismic\")\n",
        "plt.show();"
      ],
      "execution_count": null,
      "outputs": [
        {
          "output_type": "display_data",
          "data": {
            "image/png": "[encoded data removed]",
            "text/plain": [
              "<Figure size 720x720 with 2 Axes>"
            ]
          },
          "metadata": {
            "tags": []
          }
        }
      ]
    },
    {
      "cell_type": "code",
      "metadata": {
        "id": "L0jnp5ccPFdZ",
        "colab_type": "code",
        "colab": {}
      },
      "source": [
        "#Highest correlations come from:\n",
        "#Time & V3 (-0.42)\n",
        "#Amount & V2 (-0.53)\n",
        "#Amount & V4 (0.4)"
      ],
      "execution_count": null,
      "outputs": []
    },
    {
      "cell_type": "code",
      "metadata": {
        "id": "1sLgvX1tPUmK",
        "colab_type": "code",
        "colab": {}
      },
      "source": [
        ""
      ],
      "execution_count": null,
      "outputs": []
    }
  ]
}